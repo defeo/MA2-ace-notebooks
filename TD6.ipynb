{
 "cells": [
  {
   "cell_type": "markdown",
   "metadata": {},
   "source": [
    "# TD 6\n",
    "\n",
    "## Exo 10.3"
   ]
  },
  {
   "cell_type": "code",
   "execution_count": 1,
   "metadata": {},
   "outputs": [],
   "source": [
    "A.<x,y> = QQ[]\n",
    "f = x^2 - 2\n",
    "g = x^3 - 7"
   ]
  },
  {
   "cell_type": "code",
   "execution_count": 2,
   "metadata": {},
   "outputs": [
    {
     "data": {
      "text/plain": [
       "y^6 - 6*y^4 - 14*y^3 + 12*y^2 - 84*y + 41"
      ]
     },
     "execution_count": 2,
     "metadata": {},
     "output_type": "execute_result"
    }
   ],
   "source": [
    "h = f.resultant(g(x=y-x), x)\n",
    "h"
   ]
  },
  {
   "cell_type": "markdown",
   "metadata": {},
   "source": [
    "On vérifie que $2^{1/2} + 7^{1/3}$ est bien une racine"
   ]
  },
  {
   "cell_type": "code",
   "execution_count": 3,
   "metadata": {},
   "outputs": [
    {
     "data": {
      "text/plain": [
       "0"
      ]
     },
     "execution_count": 3,
     "metadata": {},
     "output_type": "execute_result"
    }
   ],
   "source": [
    "h(y=2^(1/2) + 7^(1/3)).expand()"
   ]
  },
  {
   "cell_type": "markdown",
   "metadata": {},
   "source": [
    "## Exo 10.5"
   ]
  },
  {
   "cell_type": "code",
   "execution_count": 4,
   "metadata": {},
   "outputs": [],
   "source": [
    "A.<X,Y> = QQ[]\n",
    "f = X^4 + Y^4 - 1\n",
    "g = X^5*Y^2 - 4*X^3*Y^3 + X^2*Y^5 - 1"
   ]
  },
  {
   "cell_type": "markdown",
   "metadata": {},
   "source": [
    "La projection de la variété sur l'axe des $X$ est composée de 28 points"
   ]
  },
  {
   "cell_type": "code",
   "execution_count": 5,
   "metadata": {},
   "outputs": [
    {
     "data": {
      "text/plain": [
       "2*X^28 - 16*X^27 + 32*X^26 + 249*X^24 + 48*X^23 - 128*X^22 + 4*X^21 - 757*X^20 - 112*X^19 + 192*X^18 - 12*X^17 + 758*X^16 + 144*X^15 - 126*X^14 + 28*X^13 - 251*X^12 - 64*X^11 + 30*X^10 - 36*X^9 - X^8 + 16*X^5 + 1"
      ]
     },
     "execution_count": 5,
     "metadata": {},
     "output_type": "execute_result"
    }
   ],
   "source": [
    "h = f.resultant(g, Y)\n",
    "h"
   ]
  },
  {
   "cell_type": "markdown",
   "metadata": {},
   "source": [
    "Seulement 4 de ces points sont réels"
   ]
  },
  {
   "cell_type": "code",
   "execution_count": 6,
   "metadata": {},
   "outputs": [
    {
     "data": {
      "text/plain": [
       "(2.00000000000000) * (X - 0.966506296874216) * (X - 0.721113386166218) * (X + 0.597428986963397) * (X + 0.924209668349044) * (X^2 - 9.64588608545517*X + 27.2478986510189) * (X^2 - 2.07381031598562*X + 1.07569410961252) * (X^2 - 0.893217025895166*X + 0.295336342296285) * (X^2 - 0.779939824160087*X + 0.428337852683492) * (X^2 - 0.121266599180110*X + 1.03967187384805) * (X^2 - 0.0603056667782709*X + 0.938887472264107) * (X^2 + 0.0272947089885237*X + 1.03310413303256) * (X^2 + 0.228048118439437*X + 0.407906285068887) * (X^2 + 0.525249644063553*X + 0.343345271720577) * (X^2 + 1.29090151259232*X + 0.509689390328851) * (X^2 + 1.65011569846010*X + 4.77398949422654) * (X^2 + 2.01879686263848*X + 1.01964113877716)"
      ]
     },
     "execution_count": 6,
     "metadata": {},
     "output_type": "execute_result"
    }
   ],
   "source": [
    "h.change_ring(RR).factor()"
   ]
  },
  {
   "cell_type": "markdown",
   "metadata": {},
   "source": [
    "Pour mieux manipuler le polynôme $h$, on change son parent"
   ]
  },
  {
   "cell_type": "code",
   "execution_count": 7,
   "metadata": {},
   "outputs": [],
   "source": [
    "H = h.univariate_polynomial()"
   ]
  },
  {
   "cell_type": "code",
   "execution_count": 8,
   "metadata": {},
   "outputs": [
    {
     "data": {
      "text/plain": [
       "Multivariate Polynomial Ring in X, Y over Rational Field"
      ]
     },
     "execution_count": 8,
     "metadata": {},
     "output_type": "execute_result"
    }
   ],
   "source": [
    "parent(h)"
   ]
  },
  {
   "cell_type": "code",
   "execution_count": 9,
   "metadata": {},
   "outputs": [
    {
     "data": {
      "text/plain": [
       "Univariate Polynomial Ring in X over Rational Field"
      ]
     },
     "execution_count": 9,
     "metadata": {},
     "output_type": "execute_result"
    }
   ],
   "source": [
    "parent(H)"
   ]
  },
  {
   "cell_type": "markdown",
   "metadata": {},
   "source": [
    "On peut voir directement ses racines réelles"
   ]
  },
  {
   "cell_type": "code",
   "execution_count": 10,
   "metadata": {},
   "outputs": [
    {
     "data": {
      "text/plain": [
       "[(-0.924209668349044, 1),\n",
       " (-0.597428986963397, 1),\n",
       " (0.721113386166218, 1),\n",
       " (0.966506296874216, 1)]"
      ]
     },
     "execution_count": 10,
     "metadata": {},
     "output_type": "execute_result"
    }
   ],
   "source": [
    "H.roots(RR)"
   ]
  },
  {
   "cell_type": "code",
   "execution_count": 11,
   "metadata": {},
   "outputs": [
    {
     "data": {
      "text/plain": [
       "\u001b[0;31mDocstring:\u001b[0m     \n",
       "   Return the roots of this polynomial (by default, in the base ring\n",
       "   of this polynomial).\n",
       "\n",
       "   INPUT:\n",
       "\n",
       "   * \"ring\" - the ring to find roots in\n",
       "\n",
       "   * \"multiplicities\" - bool (default: True) if True return list of\n",
       "     pairs (r, n), where r is the root and n is the multiplicity. If\n",
       "     False, just return the unique roots, with no information about\n",
       "     multiplicities.\n",
       "\n",
       "   * \"algorithm\" - the root-finding algorithm to use. We attempt to\n",
       "     select a reasonable algorithm by default, but this lets the\n",
       "     caller override our choice.\n",
       "\n",
       "   By default, this finds all the roots that lie in the base ring of\n",
       "   the polynomial. However, the ring parameter can be used to specify\n",
       "   a ring to look for roots in.\n",
       "\n",
       "   If the polynomial and the output ring are both exact (integers,\n",
       "   rationals, finite fields, etc.), then the output should always be\n",
       "   correct (or raise an exception, if that case is not yet handled).\n",
       "\n",
       "   If the output ring is approximate (floating-point real or complex\n",
       "   numbers), then the answer will be estimated numerically, using\n",
       "   floating-point arithmetic of at least the precision of the output\n",
       "   ring. If the polynomial is ill-conditioned, meaning that a small\n",
       "   change in the coefficients of the polynomial will lead to a\n",
       "   relatively large change in the location of the roots, this may give\n",
       "   poor results. Distinct roots may be returned as multiple roots,\n",
       "   multiple roots may be returned as distinct roots, real roots may be\n",
       "   lost entirely (because the numerical estimate thinks they are\n",
       "   complex roots). Note that polynomials with multiple roots are\n",
       "   always ill-conditioned; there's a footnote at the end of the\n",
       "   docstring about this.\n",
       "\n",
       "   If the output ring is a RealIntervalField or ComplexIntervalField\n",
       "   of a given precision, then the answer will always be correct (or an\n",
       "   exception will be raised, if a case is not implemented). Each root\n",
       "   will be contained in one of the returned intervals, and the\n",
       "   intervals will be disjoint. (The returned intervals may be of\n",
       "   higher precision than the specified output ring.)\n",
       "\n",
       "   At the end of this docstring (after the examples) is a description\n",
       "   of all the cases implemented in this function, and the algorithms\n",
       "   used. That section also describes the possibilities for\n",
       "   \"algorithm=\", for the cases where multiple algorithms exist.\n",
       "\n",
       "   EXAMPLES:\n",
       "\n",
       "      sage: x = QQ['x'].0\n",
       "      sage: f = x^3 - 1\n",
       "      sage: f.roots()\n",
       "      [(1, 1)]\n",
       "      sage: f.roots(ring=CC)   # note -- low order bits slightly different on ppc.\n",
       "      [(1.00000000000000, 1), (-0.500000000000000 - 0.86602540378443...*I, 1), (-0.500000000000000 + 0.86602540378443...*I, 1)]\n",
       "      sage: f = (x^3 - 1)^2\n",
       "      sage: f.roots()\n",
       "      [(1, 2)]\n",
       "\n",
       "      sage: f = -19*x + 884736\n",
       "      sage: f.roots()\n",
       "      [(884736/19, 1)]\n",
       "      sage: (f^20).roots()\n",
       "      [(884736/19, 20)]\n",
       "\n",
       "      sage: K.<z> = CyclotomicField(3)\n",
       "      sage: f = K.defining_polynomial()\n",
       "      sage: f.roots(ring=GF(7))\n",
       "      [(4, 1), (2, 1)]\n",
       "      sage: g = f.change_ring(GF(7))\n",
       "      sage: g.roots()\n",
       "      [(4, 1), (2, 1)]\n",
       "      sage: g.roots(multiplicities=False)\n",
       "      [4, 2]\n",
       "\n",
       "   A new ring.  In the example below, we add the special method\n",
       "   _roots_univariate_polynomial to the base ring, and observe that\n",
       "   this method is called instead to find roots of polynomials over\n",
       "   this ring.  This facility can be used to easily extend root finding\n",
       "   to work over new rings you introduce:\n",
       "\n",
       "      sage: R.<x> = QQ[]\n",
       "      sage: (x^2 + 1).roots()\n",
       "      []\n",
       "      sage: g = lambda f, *args, **kwds: f.change_ring(CDF).roots()\n",
       "      sage: QQ._roots_univariate_polynomial = g\n",
       "      sage: (x^2 + 1).roots()  # abs tol 1e-14\n",
       "      [(2.7755575615628914e-17 - 1.0*I, 1), (0.9999999999999997*I, 1)]\n",
       "      sage: del QQ._roots_univariate_polynomial\n",
       "\n",
       "   An example over RR, which illustrates that only the roots in RR are\n",
       "   returned:\n",
       "\n",
       "      sage: x = RR['x'].0\n",
       "      sage: f = x^3 -2\n",
       "      sage: f.roots()\n",
       "      [(1.25992104989487, 1)]\n",
       "      sage: f.factor()\n",
       "      (x - 1.25992104989487) * (x^2 + 1.25992104989487*x + 1.58740105196820)\n",
       "      sage: x = RealField(100)['x'].0\n",
       "      sage: f = x^3 -2\n",
       "      sage: f.roots()\n",
       "      [(1.2599210498948731647672106073, 1)]\n",
       "\n",
       "      sage: x = CC['x'].0\n",
       "      sage: f = x^3 -2\n",
       "      sage: f.roots()\n",
       "      [(1.25992104989487, 1), (-0.62996052494743... - 1.09112363597172*I, 1), (-0.62996052494743... + 1.09112363597172*I, 1)]\n",
       "      sage: f.roots(algorithm='pari')\n",
       "      [(1.25992104989487, 1), (-0.629960524947437 - 1.09112363597172*I, 1), (-0.629960524947437 + 1.09112363597172*I, 1)]\n",
       "\n",
       "   Another example showing that only roots in the base ring are\n",
       "   returned:\n",
       "\n",
       "      sage: x = polygen(ZZ)\n",
       "      sage: f = (2*x-3) * (x-1) * (x+1)\n",
       "      sage: f.roots()\n",
       "      [(1, 1), (-1, 1)]\n",
       "      sage: f.roots(ring=QQ)\n",
       "      [(3/2, 1), (1, 1), (-1, 1)]\n",
       "\n",
       "   An example involving large numbers:\n",
       "\n",
       "      sage: x = RR['x'].0\n",
       "      sage: f = x^2 - 1e100\n",
       "      sage: f.roots()\n",
       "      [(-1.00000000000000e50, 1), (1.00000000000000e50, 1)]\n",
       "      sage: f = x^10 - 2*(5*x-1)^2\n",
       "      sage: f.roots(multiplicities=False)\n",
       "      [-1.6772670339941..., 0.19995479628..., 0.20004530611..., 1.5763035161844...]\n",
       "\n",
       "      sage: x = CC['x'].0\n",
       "      sage: i = CC.0\n",
       "      sage: f = (x - 1)*(x - i)\n",
       "      sage: f.roots(multiplicities=False)\n",
       "      [1.00000000000000, 1.00000000000000*I]\n",
       "      sage: g=(x-1.33+1.33*i)*(x-2.66-2.66*i)\n",
       "      sage: g.roots(multiplicities=False)\n",
       "      [1.33000000000000 - 1.33000000000000*I, 2.66000000000000 + 2.66000000000000*I]\n",
       "\n",
       "   Describing roots using radical expressions:\n",
       "\n",
       "      sage: x = QQ['x'].0\n",
       "      sage: f = x^2 + 2\n",
       "      sage: f.roots(SR)\n",
       "      [(-I*sqrt(2), 1), (I*sqrt(2), 1)]\n",
       "      sage: f.roots(SR, multiplicities=False)\n",
       "      [-I*sqrt(2), I*sqrt(2)]\n",
       "\n",
       "   The roots of some polynomials can't be described using radical\n",
       "   expressions:\n",
       "\n",
       "      sage: (x^5 - x + 1).roots(SR)\n",
       "      []\n",
       "\n",
       "   For some other polynomials, no roots can be found at the moment due\n",
       "   to the way roots are computed. https://trac.sagemath.org/17516\n",
       "   addresses these defecits. Until that gets implemented, one such\n",
       "   example is the following:\n",
       "\n",
       "      sage: f = x^6-300*x^5+30361*x^4-1061610*x^3+1141893*x^2-915320*x+101724\n",
       "      sage: f.roots()\n",
       "      []\n",
       "\n",
       "   A purely symbolic roots example:\n",
       "\n",
       "      sage: X = var('X')\n",
       "      sage: f = expand((X-1)*(X-I)^3*(X^2 - sqrt(2))); f\n",
       "      X^6 - (3*I + 1)*X^5 - sqrt(2)*X^4 + (3*I - 3)*X^4 + (3*I + 1)*sqrt(2)*X^3 + (I + 3)*X^3 - (3*I - 3)*sqrt(2)*X^2 - I*X^2 - (I + 3)*sqrt(2)*X + I*sqrt(2)\n",
       "      sage: f.roots()\n",
       "      [(I, 3), (-2^(1/4), 1), (2^(1/4), 1), (1, 1)]\n",
       "\n",
       "   The same operation, performed over a polynomial ring with symbolic\n",
       "   coefficients:\n",
       "\n",
       "      sage: X = SR['X'].0\n",
       "      sage: f = (X-1)*(X-I)^3*(X^2 - sqrt(2)); f\n",
       "      X^6 + (-3*I - 1)*X^5 + (-sqrt(2) + 3*I - 3)*X^4 + ((3*I + 1)*sqrt(2) + I + 3)*X^3 + (-(3*I - 3)*sqrt(2) - I)*X^2 + (-(I + 3)*sqrt(2))*X + I*sqrt(2)\n",
       "      sage: f.roots()\n",
       "      [(I, 3), (-2^(1/4), 1), (2^(1/4), 1), (1, 1)]\n",
       "      sage: f.roots(multiplicities=False)\n",
       "      [I, -2^(1/4), 2^(1/4), 1]\n",
       "\n",
       "   A couple of examples where the base ring doesn't have a\n",
       "   factorization algorithm (yet). Note that this is currently done via\n",
       "   naive enumeration, so could be very slow:\n",
       "\n",
       "      sage: R = Integers(6)\n",
       "      sage: S.<x> = R['x']\n",
       "      sage: p = x^2-1\n",
       "      sage: p.roots()\n",
       "      Traceback (most recent call last):\n",
       "      ...\n",
       "      NotImplementedError: root finding with multiplicities for this polynomial not implemented (try the multiplicities=False option)\n",
       "      sage: p.roots(multiplicities=False)\n",
       "      [1, 5]\n",
       "      sage: R = Integers(9)\n",
       "      sage: A = PolynomialRing(R, 'y')\n",
       "      sage: y = A.gen()\n",
       "      sage: f = 10*y^2 - y^3 - 9\n",
       "      sage: f.roots(multiplicities=False)\n",
       "      [0, 1, 3, 6]\n",
       "\n",
       "   An example over the complex double field (where root finding is\n",
       "   fast, thanks to NumPy):\n",
       "\n",
       "      sage: R.<x> = CDF[]\n",
       "      sage: f = R.cyclotomic_polynomial(5); f\n",
       "      x^4 + x^3 + x^2 + x + 1.0\n",
       "      sage: f.roots(multiplicities=False)  # abs tol 1e-9\n",
       "      [-0.8090169943749469 - 0.5877852522924724*I, -0.8090169943749473 + 0.5877852522924724*I, 0.30901699437494773 - 0.951056516295154*I, 0.30901699437494756 + 0.9510565162951525*I]\n",
       "      sage: [z^5 for z in f.roots(multiplicities=False)]  # abs tol 2e-14\n",
       "      [0.9999999999999957 - 1.2864981197413038e-15*I, 0.9999999999999976 + 3.062854959141552e-15*I, 1.0000000000000024 + 1.1331077795295987e-15*I, 0.9999999999999953 - 2.0212861992297117e-15*I]\n",
       "      sage: f = CDF['x']([1,2,3,4]); f\n",
       "      4.0*x^3 + 3.0*x^2 + 2.0*x + 1.0\n",
       "      sage: r = f.roots(multiplicities=False)\n",
       "      sage: [f(a).abs() for a in r]  # abs tol 1e-14\n",
       "      [2.574630599127759e-15, 1.457101633618084e-15, 1.1443916996305594e-15]\n",
       "\n",
       "   Another example over RDF:\n",
       "\n",
       "      sage: x = RDF['x'].0\n",
       "      sage: ((x^3 -1)).roots()  # abs tol 4e-16\n",
       "      [(1.0000000000000002, 1)]\n",
       "      sage: ((x^3 -1)).roots(multiplicities=False)  # abs tol 4e-16\n",
       "      [1.0000000000000002]\n",
       "\n",
       "   More examples involving the complex double field:\n",
       "\n",
       "      sage: x = CDF['x'].0\n",
       "      sage: i = CDF.0\n",
       "      sage: f = x^3 + 2*i; f\n",
       "      x^3 + 2.0*I\n",
       "      sage: f.roots()  # abs tol 1e-14\n",
       "      [(-1.0911236359717227 - 0.6299605249474374*I, 1), (3.885780586188048e-16 + 1.2599210498948734*I, 1), (1.0911236359717211 - 0.6299605249474363*I, 1)]\n",
       "      sage: f.roots(multiplicities=False)  # abs tol 1e-14\n",
       "      [-1.0911236359717227 - 0.6299605249474374*I, 3.885780586188048e-16 + 1.2599210498948734*I, 1.0911236359717211 - 0.6299605249474363*I]\n",
       "      sage: [abs(f(z)) for z in f.roots(multiplicities=False)]  # abs tol 1e-14\n",
       "      [8.95090418262362e-16, 8.728374398092689e-16, 1.0235750533041806e-15]\n",
       "      sage: f = i*x^3 + 2; f\n",
       "      I*x^3 + 2.0\n",
       "      sage: f.roots()  # abs tol 1e-14\n",
       "      [(-1.0911236359717227 + 0.6299605249474374*I, 1), (3.885780586188048e-16 - 1.2599210498948734*I, 1), (1.0911236359717211 + 0.6299605249474363*I, 1)]\n",
       "      sage: abs(f(f.roots()[0][0]))  # abs tol 1e-13\n",
       "      1.1102230246251565e-16\n",
       "\n",
       "   Examples using real root isolation:\n",
       "\n",
       "      sage: x = polygen(ZZ)\n",
       "      sage: f = x^2 - x - 1\n",
       "      sage: f.roots()\n",
       "      []\n",
       "      sage: f.roots(ring=RIF)\n",
       "      [(-0.6180339887498948482045868343657?, 1), (1.6180339887498948482045868343657?, 1)]\n",
       "      sage: f.roots(ring=RIF, multiplicities=False)\n",
       "      [-0.6180339887498948482045868343657?, 1.6180339887498948482045868343657?]\n",
       "      sage: f.roots(ring=RealIntervalField(150))\n",
       "      [(-0.6180339887498948482045868343656381177203091798057628621354486227?, 1), (1.618033988749894848204586834365638117720309179805762862135448623?, 1)]\n",
       "      sage: f.roots(ring=AA)\n",
       "      [(-0.618033988749895?, 1), (1.618033988749895?, 1)]\n",
       "      sage: f = f^2 * (x - 1)\n",
       "      sage: f.roots(ring=RIF)\n",
       "      [(-0.6180339887498948482045868343657?, 2), (1.0000000000000000000000000000000?, 1), (1.6180339887498948482045868343657?, 2)]\n",
       "      sage: f.roots(ring=RIF, multiplicities=False)\n",
       "      [-0.6180339887498948482045868343657?, 1.0000000000000000000000000000000?, 1.6180339887498948482045868343657?]\n",
       "\n",
       "   Examples using complex root isolation:\n",
       "\n",
       "      sage: x = polygen(ZZ)\n",
       "      sage: p = x^5 - x - 1\n",
       "      sage: p.roots()\n",
       "      []\n",
       "      sage: p.roots(ring=CIF)\n",
       "      [(1.167303978261419?, 1), (-0.764884433600585? - 0.352471546031727?*I, 1), (-0.764884433600585? + 0.352471546031727?*I, 1), (0.181232444469876? - 1.083954101317711?*I, 1), (0.181232444469876? + 1.083954101317711?*I, 1)]\n",
       "      sage: p.roots(ring=ComplexIntervalField(200))\n",
       "      [(1.167303978261418684256045899854842180720560371525489039140082?, 1), (-0.76488443360058472602982318770854173032899665194736756700778? - 0.35247154603172624931794709140258105439420648082424733283770?*I, 1), (-0.76488443360058472602982318770854173032899665194736756700778? + 0.35247154603172624931794709140258105439420648082424733283770?*I, 1), (0.18123244446987538390180023778112063996871646618462304743774? - 1.08395410131771066843034449298076657427364024315511565430114?*I, 1), (0.18123244446987538390180023778112063996871646618462304743774? + 1.08395410131771066843034449298076657427364024315511565430114?*I, 1)]\n",
       "      sage: rts = p.roots(ring=QQbar); rts\n",
       "      [(1.167303978261419?, 1), (-0.7648844336005847? - 0.3524715460317263?*I, 1), (-0.7648844336005847? + 0.3524715460317263?*I, 1), (0.1812324444698754? - 1.083954101317711?*I, 1), (0.1812324444698754? + 1.083954101317711?*I, 1)]\n",
       "      sage: p.roots(ring=AA)\n",
       "      [(1.167303978261419?, 1)]\n",
       "      sage: p = (x - rts[4][0])^2 * (3*x^2 + x + 1)\n",
       "      sage: p.roots(ring=QQbar)\n",
       "      [(-0.1666666666666667? - 0.552770798392567?*I, 1), (-0.1666666666666667? + 0.552770798392567?*I, 1), (0.1812324444698754? + 1.083954101317711?*I, 2)]\n",
       "      sage: p.roots(ring=CIF)\n",
       "      [(-0.1666666666666667? - 0.552770798392567?*I, 1), (-0.1666666666666667? + 0.552770798392567?*I, 1), (0.1812324444698754? + 1.083954101317711?*I, 2)]\n",
       "\n",
       "   Note that coefficients in a number field with defining polynomial\n",
       "   x^2 + 1 are considered to be Gaussian rationals (with the generator\n",
       "   mapping to +I), if you ask for complex roots.\n",
       "\n",
       "      sage: K.<im> = QuadraticField(-1)\n",
       "      sage: y = polygen(K)\n",
       "      sage: p = y^4 - 2 - im\n",
       "      sage: p.roots(ring=CC)\n",
       "      [(-1.2146389322441... - 0.14142505258239...*I, 1), (-0.14142505258239... + 1.2146389322441...*I, 1), (0.14142505258239... - 1.2146389322441...*I, 1), (1.2146389322441... + 0.14142505258239...*I, 1)]\n",
       "      sage: p = p^2 * (y^2 - 2)\n",
       "      sage: p.roots(ring=CIF)\n",
       "      [(-1.414213562373095?, 1), (1.414213562373095?, 1), (-1.214638932244183? - 0.141425052582394?*I, 2), (-0.141425052582394? + 1.214638932244183?*I, 2), (0.141425052582394? - 1.214638932244183?*I, 2), (1.214638932244183? + 0.141425052582394?*I, 2)]\n",
       "\n",
       "   Note that one should not use NumPy when wanting high precision\n",
       "   output as it does not support any of the high precision types:\n",
       "\n",
       "      sage: R.<x> = RealField(200)[]\n",
       "      sage: f = x^2 - R(pi)\n",
       "      sage: f.roots()\n",
       "      [(-1.7724538509055160272981674833411451827975494561223871282138, 1), (1.7724538509055160272981674833411451827975494561223871282138, 1)]\n",
       "      sage: f.roots(algorithm='numpy')\n",
       "      doctest... UserWarning: NumPy does not support arbitrary precision arithmetic.  The roots found will likely have less precision than you expect.\n",
       "      [(-1.77245385090551..., 1), (1.77245385090551..., 1)]\n",
       "\n",
       "   We can also find roots over number fields:\n",
       "\n",
       "      sage: K.<z> = CyclotomicField(15)\n",
       "      sage: R.<x> = PolynomialRing(K)\n",
       "      sage: (x^2 + x + 1).roots()\n",
       "      [(z^5, 1), (-z^5 - 1, 1)]\n",
       "\n",
       "   There are many combinations of floating-point input and output\n",
       "   types that work. (Note that some of them are quite pointless like\n",
       "   using \"algorithm='numpy'\" with high-precision types.)\n",
       "\n",
       "      sage: rflds = (RR, RDF, RealField(100))\n",
       "      sage: cflds = (CC, CDF, ComplexField(100))\n",
       "      sage: def cross(a, b):\n",
       "      ....:     return list(cartesian_product_iterator([a, b]))\n",
       "      sage: flds = cross(rflds, rflds) + cross(rflds, cflds) + cross(cflds, cflds)\n",
       "      sage: for (fld_in, fld_out) in flds:\n",
       "      ....:     x = polygen(fld_in)\n",
       "      ....:     f = x^3 - fld_in(2)\n",
       "      ....:     x2 = polygen(fld_out)\n",
       "      ....:     f2 = x2^3 - fld_out(2)\n",
       "      ....:     for algo in (None, 'pari', 'numpy'):\n",
       "      ....:         rts = f.roots(ring=fld_out, multiplicities=False)\n",
       "      ....:         if fld_in == fld_out and algo is None:\n",
       "      ....:             print(\"{} {}\".format(fld_in, rts))\n",
       "      ....:         for rt in rts:\n",
       "      ....:             assert(abs(f2(rt)) <= 1e-10)\n",
       "      ....:             assert(rt.parent() == fld_out)\n",
       "      Real Field with 53 bits of precision [1.25992104989487]\n",
       "      Real Double Field [1.25992104989...]\n",
       "      Real Field with 100 bits of precision [1.2599210498948731647672106073]\n",
       "      Complex Field with 53 bits of precision [1.25992104989487, -0.62996052494743... - 1.09112363597172*I, -0.62996052494743... + 1.09112363597172*I]\n",
       "      Complex Double Field [1.25992104989..., -0.629960524947... - 1.0911236359717...*I, -0.629960524947... + 1.0911236359717...*I]\n",
       "      Complex Field with 100 bits of precision [1.2599210498948731647672106073, -0.62996052494743658238360530364 - 1.0911236359717214035600726142*I, -0.62996052494743658238360530364 + 1.0911236359717214035600726142*I]\n",
       "\n",
       "   Note that we can find the roots of a polynomial with algebraic\n",
       "   coefficients:\n",
       "\n",
       "      sage: rt2 = sqrt(AA(2))\n",
       "      sage: rt3 = sqrt(AA(3))\n",
       "      sage: x = polygen(AA)\n",
       "      sage: f = (x - rt2) * (x - rt3); f\n",
       "          x^2 - 3.146264369941973?*x + 2.449489742783178?\n",
       "      sage: rts = f.roots(); rts\n",
       "      [(1.414213562373095?, 1), (1.732050807568878?, 1)]\n",
       "      sage: rts[0][0] == rt2\n",
       "      True\n",
       "      sage: f.roots(ring=RealIntervalField(150))\n",
       "      [(1.414213562373095048801688724209698078569671875376948073176679738?, 1), (1.732050807568877293527446341505872366942805253810380628055806980?, 1)]\n",
       "\n",
       "   We can handle polynomials with huge coefficients.\n",
       "\n",
       "   This number doesn't even fit in an IEEE double-precision float, but\n",
       "   RR and CC allow a much larger range of floating-point numbers:\n",
       "\n",
       "      sage: bigc = 2^1500\n",
       "      sage: CDF(bigc)\n",
       "      +infinity\n",
       "      sage: CC(bigc)\n",
       "      3.50746621104340e451\n",
       "\n",
       "   Polynomials using such large coefficients can't be handled by\n",
       "   numpy, but pari can deal with them:\n",
       "\n",
       "      sage: x = polygen(QQ)\n",
       "      sage: p = x + bigc\n",
       "      sage: p.roots(ring=RR, algorithm='numpy')\n",
       "      Traceback (most recent call last):\n",
       "      ...\n",
       "      LinAlgError: Array must not contain infs or NaNs\n",
       "      sage: p.roots(ring=RR, algorithm='pari')\n",
       "      [(-3.50746621104340e451, 1)]\n",
       "      sage: p.roots(ring=AA)\n",
       "      [(-3.5074662110434039?e451, 1)]\n",
       "      sage: p.roots(ring=QQbar)\n",
       "      [(-3.5074662110434039?e451, 1)]\n",
       "      sage: p = bigc*x + 1\n",
       "      sage: p.roots(ring=RR)\n",
       "      [(0.000000000000000, 1)]\n",
       "      sage: p.roots(ring=AA)\n",
       "      [(-2.8510609648967059?e-452, 1)]\n",
       "      sage: p.roots(ring=QQbar)\n",
       "      [(-2.8510609648967059?e-452, 1)]\n",
       "      sage: p = x^2 - bigc\n",
       "      sage: p.roots(ring=RR)\n",
       "      [(-5.92238652153286e225, 1), (5.92238652153286e225, 1)]\n",
       "      sage: p.roots(ring=QQbar)\n",
       "      [(-5.9223865215328558?e225, 1), (5.9223865215328558?e225, 1)]\n",
       "\n",
       "   Algorithms used:\n",
       "\n",
       "   For brevity, we will use RR to mean any RealField of any precision;\n",
       "   similarly for RIF, CC, and CIF. Since Sage has no specific\n",
       "   implementation of Gaussian rationals (or of number fields with\n",
       "   embedding, at all), when we refer to Gaussian rationals below we\n",
       "   will accept any number field with defining polynomial x^2+1,\n",
       "   mapping the field generator to +I.\n",
       "\n",
       "   We call the base ring of the polynomial K, and the ring given by\n",
       "   the ring= argument L. (If ring= is not specified, then L is the\n",
       "   same as K.)\n",
       "\n",
       "   If K and L are floating-point (RDF, CDF, RR, or CC), then a\n",
       "   floating-point root-finder is used. If L is RDF or CDF then we\n",
       "   default to using NumPy's roots(); otherwise, we use PARI's\n",
       "   polroots(). This choice can be overridden with algorithm='pari' or\n",
       "   algorithm='numpy'. If the algorithm is unspecified and NumPy's\n",
       "   roots() algorithm fails, then we fall back to pari (numpy will fail\n",
       "   if some coefficient is infinite, for instance).\n",
       "\n",
       "   If L is SR, then the roots will be radical expressions, computed as\n",
       "   the solutions of a symbolic polynomial expression. At the moment\n",
       "   this delegates to \"sage.symbolic.expression.Expression.solve()\"\n",
       "   which in turn uses Maxima to find radical solutions. Some solutions\n",
       "   may be lost in this approach. Once https://trac.sagemath.org/17516\n",
       "   gets implemented, all possible radical solutions should become\n",
       "   available.\n",
       "\n",
       "   If L is AA or RIF, and K is ZZ, QQ, or AA, then the root isolation\n",
       "   algorithm sage.rings.polynomial.real_roots.real_roots() is used.\n",
       "   (You can call real_roots() directly to get more control than this\n",
       "   method gives.)\n",
       "\n",
       "   If L is QQbar or CIF, and K is ZZ, QQ, AA, QQbar, or the Gaussian\n",
       "   rationals, then the root isolation algorithm\n",
       "   sage.rings.polynomial.complex_roots.complex_roots() is used. (You\n",
       "   can call complex_roots() directly to get more control than this\n",
       "   method gives.)\n",
       "\n",
       "   If L is AA and K is QQbar or the Gaussian rationals, then\n",
       "   complex_roots() is used (as above) to find roots in QQbar, then\n",
       "   these roots are filtered to select only the real roots.\n",
       "\n",
       "   If L is floating-point and K is not, then we attempt to change the\n",
       "   polynomial ring to L (using .change_ring()) (or, if L is complex\n",
       "   and K is not, to the corresponding real field). Then we use either\n",
       "   PARI or numpy as specified above.\n",
       "\n",
       "   For all other cases where K is different than L, we just use\n",
       "   .change_ring(L) and proceed as below.\n",
       "\n",
       "   The next method, which is used if K is an integral domain, is to\n",
       "   attempt to factor the polynomial. If this succeeds, then for every\n",
       "   degree-one factor a*x+b, we add -b/a as a root (as long as this\n",
       "   quotient is actually in the desired ring).\n",
       "\n",
       "   If factoring over K is not implemented (or K is not an integral\n",
       "   domain), and K is finite, then we find the roots by enumerating all\n",
       "   elements of K and checking whether the polynomial evaluates to zero\n",
       "   at that value.\n",
       "\n",
       "   Note: We mentioned above that polynomials with multiple roots are\n",
       "     always ill-conditioned; if your input is given to n bits of\n",
       "     precision, you should not expect more than n/k good bits for a\n",
       "     k-fold root. (You can get solutions that make the polynomial\n",
       "     evaluate to a number very close to zero; basically the problem is\n",
       "     that with a multiple root, there are many such numbers, and it's\n",
       "     difficult to choose between them.)To see why this is true,\n",
       "     consider the naive floating-point error analysis model where you\n",
       "     just pretend that all floating-point numbers are somewhat\n",
       "     imprecise - a little 'fuzzy', if you will.  Then the graph of a\n",
       "     floating-point polynomial will be a fuzzy line.  Consider the\n",
       "     graph of (x-1)^3; this will be a fuzzy line with a horizontal\n",
       "     tangent at x=1, y=0. If the fuzziness extends up and down by\n",
       "     about j, then it will extend left and right by about\n",
       "     cube_root(j).\n",
       "\u001b[0;31mInit docstring:\u001b[0m x.__init__(...) initializes x; see help(type(x)) for signature\n",
       "\u001b[0;31mFile:\u001b[0m           sage/rings/polynomial/polynomial_element.pyx\n",
       "\u001b[0;31mType:\u001b[0m           builtin_function_or_method\n"
      ]
     },
     "metadata": {},
     "output_type": "display_data"
    }
   ],
   "source": [
    "H.roots?"
   ]
  },
  {
   "cell_type": "markdown",
   "metadata": {},
   "source": [
    "Plus utile pour nous: on prend la liste des racines, sans les multiplicités"
   ]
  },
  {
   "cell_type": "code",
   "execution_count": 12,
   "metadata": {},
   "outputs": [
    {
     "data": {
      "text/plain": [
       "[-0.924209668349044, -0.597428986963397, 0.721113386166218, 0.966506296874216]"
      ]
     },
     "execution_count": 12,
     "metadata": {},
     "output_type": "execute_result"
    }
   ],
   "source": [
    "H.roots(RR, multiplicities=False)"
   ]
  },
  {
   "cell_type": "markdown",
   "metadata": {},
   "source": [
    "On évalue $f$ et $g$ en les racines, pour retrouver les valeurs de $Y$ qui correspondent. On conclut que les courbes ont exactement 4 points d'intersection réels."
   ]
  },
  {
   "cell_type": "code",
   "execution_count": 13,
   "metadata": {},
   "outputs": [
    {
     "data": {
      "text/plain": [
       "[(-0.924209668349044, [-0.721113386166218, 0.721113386166218]),\n",
       " (-0.597428986963397, [-0.966506296874216, 0.966506296874216]),\n",
       " (0.721113386166218, [-0.924209668349044, 0.924209668349044]),\n",
       " (0.966506296874216, [-0.597428986963397, 0.597428986963397])]"
      ]
     },
     "execution_count": 13,
     "metadata": {},
     "output_type": "execute_result"
    }
   ],
   "source": [
    "[(r, f(X=r).univariate_polynomial().roots(RR, multiplicities=False))\n",
    " for r in H.roots(RR, multiplicities=False)]"
   ]
  },
  {
   "cell_type": "code",
   "execution_count": 14,
   "metadata": {},
   "outputs": [
    {
     "data": {
      "text/plain": [
       "[(-0.924209668349044, [0.721113386166218]),\n",
       " (-0.597428986963397, [0.966506296874216]),\n",
       " (0.721113386166218,\n",
       "  [-1.63522612855497, -0.924209668349044, 1.74160318999678]),\n",
       " (0.966506296874216,\n",
       "  [-2.04507691212831, -0.597428986963397, 1.88331929776419])]"
      ]
     },
     "execution_count": 14,
     "metadata": {},
     "output_type": "execute_result"
    }
   ],
   "source": [
    "[(r, g(X=r).univariate_polynomial().roots(RR, multiplicities=False))\n",
    " for r in H.roots(RR, multiplicities=False)]"
   ]
  },
  {
   "cell_type": "markdown",
   "metadata": {},
   "source": [
    "Pour mieux visualiser ces solutions, on les dessine"
   ]
  },
  {
   "cell_type": "code",
   "execution_count": 15,
   "metadata": {},
   "outputs": [
    {
     "data": {
      "text/plain": [
       "\u001b[0;31mSignature:\u001b[0m      \u001b[0mimplicit_plot\u001b[0m\u001b[0;34m(\u001b[0m\u001b[0;34m*\u001b[0m\u001b[0margs\u001b[0m\u001b[0;34m,\u001b[0m \u001b[0;34m**\u001b[0m\u001b[0mkwds\u001b[0m\u001b[0;34m)\u001b[0m\u001b[0;34m\u001b[0m\u001b[0m\n",
       "\u001b[0;31mDocstring:\u001b[0m     \n",
       "   \"implicit_plot\" takes a function of two variables, f(x, y) and\n",
       "   plots the curve f(x,y) = 0 over the specified \"xrange\" and \"yrange\"\n",
       "   as demonstrated below.\n",
       "\n",
       "   \"implicit_plot(f, (xmin,xmax), (ymin,ymax), ...)\"\n",
       "\n",
       "   \"implicit_plot(f, (x,xmin,xmax), (y,ymin,ymax), ...)\"\n",
       "\n",
       "   INPUT:\n",
       "\n",
       "   * \"f\" -- a function of two variables or equation in two variables\n",
       "\n",
       "   * \"(xmin,xmax)\" -- 2-tuple, the range of \"x\" values or\n",
       "     \"(x,xmin,xmax)\"\n",
       "\n",
       "   * \"(ymin,ymax)\" -- 2-tuple, the range of \"y\" values or\n",
       "     \"(y,ymin,ymax)\"\n",
       "\n",
       "   The following inputs must all be passed in as named parameters:\n",
       "\n",
       "   * \"plot_points\" -- integer (default: 150); number of points to\n",
       "     plot in each direction of the grid\n",
       "\n",
       "   * \"fill\" -- boolean (default: \"False\"); if \"True\", fill the\n",
       "     region f(x, y) < 0.\n",
       "\n",
       "   * \"fillcolor\" -- string (default: \"'blue'\"), the color of the\n",
       "     region where f(x,y) < 0 if \"fill = True\". Colors are defined in\n",
       "     \"sage.plot.colors\"; try \"colors?\" to see them all.\n",
       "\n",
       "   * \"linewidth\" -- integer (default: None), if a single integer all\n",
       "     levels will be of the width given, otherwise the levels will be\n",
       "     plotted with the widths in the order given.\n",
       "\n",
       "   * \"linestyle\" -- string (default: None), the style of the line to\n",
       "     be plotted, one of: \"\"solid\"\", \"\"dashed\"\", \"\"dashdot\"\" or\n",
       "     \"\"dotted\"\", respectively \"\"-\"\", \"\"--\"\", \"\"-.\"\", or \"\":\"\".\n",
       "\n",
       "   * \"color\" -- string (default: \"'blue'\"), the color of the plot.\n",
       "     Colors are defined in \"sage.plot.colors\"; try \"colors?\" to see\n",
       "     them all. If \"fill = True\", then this sets only the color of the\n",
       "     border of the plot. See \"fillcolor\" for setting the color of the\n",
       "     fill region.\n",
       "\n",
       "   * \"legend_label\" -- the label for this item in the legend\n",
       "\n",
       "   * \"base\" -- (default: 10) the base of the logarithm if a\n",
       "     logarithmic scale is set. This must be greater than 1. The base\n",
       "     can be also given as a list or tuple \"(basex, basey)\". \"basex\"\n",
       "     sets the base of the logarithm along the horizontal axis and\n",
       "     \"basey\" sets the base along the vertical axis.\n",
       "\n",
       "   * \"scale\" -- (default: \"\"linear\"\") string. The scale of the axes.\n",
       "     Possible values are \"\"linear\"\", \"\"loglog\"\", \"\"semilogx\"\",\n",
       "     \"\"semilogy\"\".\n",
       "\n",
       "     The scale can be also be given as single argument that is a list\n",
       "     or tuple \"(scale, base)\" or \"(scale, basex, basey)\".\n",
       "\n",
       "     The \"\"loglog\"\" scale sets both the horizontal and vertical axes\n",
       "     to logarithmic scale. The \"\"semilogx\"\" scale sets the horizontal\n",
       "     axis to logarithmic scale. The \"\"semilogy\"\" scale sets the\n",
       "     vertical axis to logarithmic scale. The \"\"linear\"\" scale is the\n",
       "     default value when \"Graphics\" is initialized.\n",
       "\n",
       "   EXAMPLES:\n",
       "\n",
       "   A simple circle with a radius of 2. Note that since the input\n",
       "   function is an expression, we need to explicitly declare the\n",
       "   variables in 3-tuples for the range:\n",
       "\n",
       "      sage: var(\"x y\")\n",
       "      (x, y)\n",
       "      sage: implicit_plot(x^2 + y^2 - 2, (x,-3,3), (y,-3,3))\n",
       "      Graphics object consisting of 1 graphics primitive\n",
       "\n",
       "   We can do the same thing, but using a callable function so we don't\n",
       "   need to explicitly define the variables in the ranges. We also fill\n",
       "   the inside:\n",
       "\n",
       "      sage: f(x,y) = x^2 + y^2 - 2\n",
       "      sage: implicit_plot(f, (-3,3), (-3,3), fill=True, plot_points=500) # long time\n",
       "      Graphics object consisting of 2 graphics primitives\n",
       "\n",
       "   The same circle but with a different line width:\n",
       "\n",
       "      sage: implicit_plot(f, (-3,3), (-3,3), linewidth=6)\n",
       "      Graphics object consisting of 1 graphics primitive\n",
       "\n",
       "   Again the same circle but this time with a dashdot border:\n",
       "\n",
       "      sage: implicit_plot(f, (-3,3), (-3,3), linestyle='dashdot')\n",
       "      Graphics object consisting of 1 graphics primitive\n",
       "\n",
       "   The same circle with different line and fill colors:\n",
       "\n",
       "      sage: implicit_plot(f, (-3,3), (-3,3), color='red', fill=True, fillcolor='green',\n",
       "      ....:                                  plot_points=500) # long time\n",
       "      Graphics object consisting of 2 graphics primitives\n",
       "\n",
       "   You can also plot an equation:\n",
       "\n",
       "      sage: var(\"x y\")\n",
       "      (x, y)\n",
       "      sage: implicit_plot(x^2 + y^2 == 2, (x,-3,3), (y,-3,3))\n",
       "      Graphics object consisting of 1 graphics primitive\n",
       "\n",
       "   You can even change the color of the plot:\n",
       "\n",
       "      sage: implicit_plot(x^2 + y^2 == 2, (x,-3,3), (y,-3,3), color=\"red\")\n",
       "      Graphics object consisting of 1 graphics primitive\n",
       "\n",
       "   The color of the fill region can be changed:\n",
       "\n",
       "      sage: implicit_plot(x**2 + y**2 == 2, (x,-3,3), (y,-3,3), fill=True, fillcolor='red')\n",
       "      Graphics object consisting of 2 graphics primitives\n",
       "\n",
       "   Here is a beautiful (and long) example which also tests that all\n",
       "   colors work with this:\n",
       "\n",
       "      sage: G = Graphics()\n",
       "      sage: counter = 0\n",
       "      sage: for col in colors.keys():  # long time\n",
       "      ....:     G += implicit_plot(x^2 + y^2 == 1 + counter*.1, (x,-4,4),(y,-4,4), color=col)\n",
       "      ....:     counter += 1\n",
       "      sage: G  # long time\n",
       "      Graphics object consisting of 148 graphics primitives\n",
       "\n",
       "   We can define a level-n approximation of the boundary of the\n",
       "   Mandelbrot set:\n",
       "\n",
       "      sage: def mandel(n):\n",
       "      ....:     c = polygen(CDF, 'c')\n",
       "      ....:     z = 0\n",
       "      ....:     for i in range(n):\n",
       "      ....:         z = z*z + c\n",
       "      ....:     def f(x,y):\n",
       "      ....:         val = z(CDF(x, y))\n",
       "      ....:         return val.norm() - 4\n",
       "      ....:     return f\n",
       "\n",
       "   The first-level approximation is just a circle:\n",
       "\n",
       "      sage: implicit_plot(mandel(1), (-3,3), (-3,3))\n",
       "      Graphics object consisting of 1 graphics primitive\n",
       "\n",
       "   A third-level approximation starts to get interesting:\n",
       "\n",
       "      sage: implicit_plot(mandel(3), (-2,1), (-1.5,1.5))\n",
       "      Graphics object consisting of 1 graphics primitive\n",
       "\n",
       "   The seventh-level approximation is a degree 64 polynomial, and\n",
       "   \"implicit_plot\" does a pretty good job on this part of the curve.\n",
       "   (\"plot_points=200\" looks even better, but it takes over a second.)\n",
       "\n",
       "      sage: implicit_plot(mandel(7), (-0.3, 0.05), (-1.15, -0.9), plot_points=50)\n",
       "      Graphics object consisting of 1 graphics primitive\n",
       "\n",
       "   When making a filled implicit plot using a python function rather\n",
       "   than a symbolic expression the user should increase the number of\n",
       "   plot points to avoid artifacts:\n",
       "\n",
       "      sage: implicit_plot(lambda x, y: x^2 + y^2 - 2, (x,-3,3), (y,-3,3),\n",
       "      ....:               fill=True, plot_points=500) # long time\n",
       "      Graphics object consisting of 2 graphics primitives\n",
       "\n",
       "   An example of an implicit plot on 'loglog' scale:\n",
       "\n",
       "      sage: implicit_plot(x^2 + y^2 == 200, (x,1,200), (y,1,200), scale='loglog')\n",
       "      Graphics object consisting of 1 graphics primitive\n",
       "\u001b[0;31mInit docstring:\u001b[0m x.__init__(...) initializes x; see help(type(x)) for signature\n",
       "\u001b[0;31mFile:\u001b[0m           /usr/lib/python2.7/dist-packages/sage/misc/decorators.py\n",
       "\u001b[0;31mType:\u001b[0m           function\n"
      ]
     },
     "metadata": {},
     "output_type": "display_data"
    }
   ],
   "source": [
    "implicit_plot?"
   ]
  },
  {
   "cell_type": "code",
   "execution_count": 17,
   "metadata": {},
   "outputs": [
    {
     "data": {
      "image/png": "[encoded data removed]",
      "text/plain": [
       "Graphics object consisting of 2 graphics primitives"
      ]
     },
     "execution_count": 17,
     "metadata": {},
     "output_type": "execute_result"
    }
   ],
   "source": [
    "implicit_plot(f, (X,-5,5), (Y,-5,5), color='red') + implicit_plot(g, (X,-5,5), (Y,-5,5))"
   ]
  },
  {
   "cell_type": "markdown",
   "metadata": {},
   "source": [
    "## Exo 10.6"
   ]
  },
  {
   "cell_type": "code",
   "execution_count": 18,
   "metadata": {},
   "outputs": [],
   "source": [
    "A.<v,u,w,x,y,z> = PolynomialRing(QQ, order='lex')\n",
    "I = A.ideal(v*x - u^2, \n",
    "            u*y - v^2,\n",
    "            z - u)"
   ]
  },
  {
   "cell_type": "markdown",
   "metadata": {},
   "source": [
    "On voit que, puisqu'on n'a pas ajouté d'équation pour interdire aux dénominateurs de s'annuler, l'équation implicite contient un hyperplan $z=0$ qui n'appartient pas à la courbe paramétrée."
   ]
  },
  {
   "cell_type": "code",
   "execution_count": 19,
   "metadata": {},
   "outputs": [
    {
     "data": {
      "text/plain": [
       "[v^2 - y*z, v*x - z^2, v*z^2 - x*y*z, u - z, x^2*y*z - z^4]"
      ]
     },
     "execution_count": 19,
     "metadata": {},
     "output_type": "execute_result"
    }
   ],
   "source": [
    "G = I.groebner_basis()\n",
    "G"
   ]
  },
  {
   "cell_type": "markdown",
   "metadata": {},
   "source": [
    "On ajoute donc une équation pour interdire à $u$ et $v$ de s'annuler."
   ]
  },
  {
   "cell_type": "code",
   "execution_count": 23,
   "metadata": {},
   "outputs": [],
   "source": [
    "I = A.ideal(v*x - u^2, \n",
    "            u*y - v^2,\n",
    "            z - u,\n",
    "            1 - w*u*v)"
   ]
  },
  {
   "cell_type": "code",
   "execution_count": 24,
   "metadata": {},
   "outputs": [],
   "source": [
    "G = I.groebner_basis()"
   ]
  },
  {
   "cell_type": "markdown",
   "metadata": {},
   "source": [
    "On remarque tout de même que le point $(0,0,0)$ fait partie de la clôture de Zariski, mais pas de la courbe paramétrée. En effet, la valeur $x=y=z=0$ ne peut pas être remontée en une solution pour $u,v,w$."
   ]
  },
  {
   "cell_type": "code",
   "execution_count": 25,
   "metadata": {},
   "outputs": [
    {
     "data": {
      "text/plain": [
       "[v - w*y*z^2, u - z, w*x*y - 1, w*z^3 - x, x^2*y - z^3]"
      ]
     },
     "execution_count": 25,
     "metadata": {},
     "output_type": "execute_result"
    }
   ],
   "source": [
    "G"
   ]
  },
  {
   "cell_type": "code",
   "execution_count": 26,
   "metadata": {},
   "outputs": [],
   "source": [
    "A.<t,w,x,y,z> = PolynomialRing(QQ, order='lex')\n",
    "I = A.ideal(x - (t^2 + t + 1),\n",
    "            y*(t^2 + 1) - (t^2 - 1),\n",
    "            1 - w*(t^2 + 1))"
   ]
  },
  {
   "cell_type": "code",
   "execution_count": 27,
   "metadata": {},
   "outputs": [
    {
     "data": {
      "text/plain": [
       "Ideal (x^2*y^2 - 2*x^2*y + x^2 + 4*x*y - 4*x + y^2 + 3) of Multivariate Polynomial Ring in t, w, x, y, z over Rational Field"
      ]
     },
     "execution_count": 27,
     "metadata": {},
     "output_type": "execute_result"
    }
   ],
   "source": [
    "I.elimination_ideal([t,w])"
   ]
  },
  {
   "cell_type": "markdown",
   "metadata": {},
   "source": [
    "Ici, par contre, pas de problème pour remonter toute solution $x,y$: la clôture de Zariski coïncide avec la courbe paramétrée"
   ]
  },
  {
   "cell_type": "code",
   "execution_count": 28,
   "metadata": {},
   "outputs": [
    {
     "data": {
      "text/plain": [
       "[t + 1/2*x^2*y - 1/2*x^2 + x + 1/2*y + 1/2, w + 1/2*y - 1/2, x^2*y^2 - 2*x^2*y + x^2 + 4*x*y - 4*x + y^2 + 3]"
      ]
     },
     "execution_count": 28,
     "metadata": {},
     "output_type": "execute_result"
    }
   ],
   "source": [
    "G = I.groebner_basis()\n",
    "G"
   ]
  },
  {
   "cell_type": "markdown",
   "metadata": {},
   "source": [
    "## Exo 10.7"
   ]
  },
  {
   "cell_type": "code",
   "execution_count": 29,
   "metadata": {},
   "outputs": [],
   "source": [
    "R.<h,x,A,a,b,c> = PolynomialRing(QQ, order='lex')"
   ]
  },
  {
   "cell_type": "markdown",
   "metadata": {},
   "source": [
    "On met dans l'idéal des rélations la formule pour le calcul de la surface, ainsi que le théorème de Pitagore."
   ]
  },
  {
   "cell_type": "code",
   "execution_count": 30,
   "metadata": {},
   "outputs": [],
   "source": [
    "I = R.ideal(A - c*h / 2,\n",
    "            a^2 - h^2 - x^2,\n",
    "            b^2 - h^2 - (c - x)^2)"
   ]
  },
  {
   "cell_type": "markdown",
   "metadata": {},
   "source": [
    "En éliminant les variables autres que $A,a,b,c$, on trouve une équation qui lie ces quatre variables."
   ]
  },
  {
   "cell_type": "code",
   "execution_count": 31,
   "metadata": {},
   "outputs": [
    {
     "data": {
      "text/plain": [
       "[h^2 + x^2 - a^2, h*A + 1/4*x*a^2 - 1/4*x*b^2 - 3/8*a^2*c - 1/8*b^2*c + 1/8*c^3, h*a^2 - h*b^2 - 4*x*A + 2*A*c, h*c - 2*A, x*c - 1/2*a^2 + 1/2*b^2 - 1/2*c^2, A^2 + 1/16*a^4 - 1/8*a^2*b^2 - 1/8*a^2*c^2 + 1/16*b^4 - 1/8*b^2*c^2 + 1/16*c^4]"
      ]
     },
     "execution_count": 31,
     "metadata": {},
     "output_type": "execute_result"
    }
   ],
   "source": [
    "G = I.groebner_basis()\n",
    "G"
   ]
  },
  {
   "cell_type": "code",
   "execution_count": 32,
   "metadata": {},
   "outputs": [
    {
     "data": {
      "text/plain": [
       "A^2 + 1/16*a^4 - 1/8*a^2*b^2 - 1/8*a^2*c^2 + 1/16*b^4 - 1/8*b^2*c^2 + 1/16*c^4"
      ]
     },
     "execution_count": 32,
     "metadata": {},
     "output_type": "execute_result"
    }
   ],
   "source": [
    "f = G[-1]\n",
    "f"
   ]
  },
  {
   "cell_type": "markdown",
   "metadata": {},
   "source": [
    "L'équation est plus lisible si on la factorise"
   ]
  },
  {
   "cell_type": "code",
   "execution_count": 33,
   "metadata": {},
   "outputs": [
    {
     "data": {
      "text/plain": [
       "(1/16) * (-a + b - c) * (-a + b + c) * (a + b - c) * (a + b + c)"
      ]
     },
     "execution_count": 33,
     "metadata": {},
     "output_type": "execute_result"
    }
   ],
   "source": [
    "(f - A^2).factor()"
   ]
  },
  {
   "cell_type": "code",
   "execution_count": null,
   "metadata": {},
   "outputs": [],
   "source": []
  }
 ],
 "metadata": {
  "kernelspec": {
   "display_name": "SageMath 8.1",
   "language": "",
   "name": "sagemath"
  },
  "language_info": {
   "codemirror_mode": {
    "name": "ipython",
    "version": 2
   },
   "file_extension": ".py",
   "mimetype": "text/x-python",
   "name": "python",
   "nbconvert_exporter": "python",
   "pygments_lexer": "ipython2",
   "version": "2.7.15rc1"
  }
 },
 "nbformat": 4,
 "nbformat_minor": 2
}
