{
 "cells": [
  {
   "cell_type": "markdown",
   "metadata": {},
   "source": [
    "# TD 4\n",
    "\n",
    "## Exo 6.1"
   ]
  },
  {
   "cell_type": "code",
   "execution_count": 1,
   "metadata": {},
   "outputs": [],
   "source": [
    "def euclidepol (A,B):\n",
    "    A0 = A; A1 = B; S0 = 1\n",
    "    S1 = 0; T0 = 0; T1 = 1\n",
    "    while A1 != 0:\n",
    "        Q = A0 // A1\n",
    "        U = A1; A1 = A0 - Q*A1; A0 = U\n",
    "        U = S1; S1 = S0 - Q*S1; S0 = U\n",
    "        U = T1; T1 = T0 - Q*T1; T0 = U\n",
    "    return (A0,S0,T0)"
   ]
  },
  {
   "cell_type": "code",
   "execution_count": 2,
   "metadata": {},
   "outputs": [],
   "source": [
    "A.<x> = QQ[]"
   ]
  },
  {
   "cell_type": "markdown",
   "metadata": {},
   "source": [
    "C'est bien l'algorithme d'Euclide étendu"
   ]
  },
  {
   "cell_type": "code",
   "execution_count": 3,
   "metadata": {},
   "outputs": [
    {
     "data": {
      "text/plain": [
       "(x^2 + 1, 0, 1)"
      ]
     },
     "execution_count": 3,
     "metadata": {},
     "output_type": "execute_result"
    }
   ],
   "source": [
    "euclidepol(x^4 - 1, x^2 + 1)"
   ]
  },
  {
   "cell_type": "markdown",
   "metadata": {},
   "source": [
    "et il marche avec n'importe quel anneau Euclidien"
   ]
  },
  {
   "cell_type": "code",
   "execution_count": 4,
   "metadata": {},
   "outputs": [
    {
     "data": {
      "text/plain": [
       "(3, -2, 3)"
      ]
     },
     "execution_count": 4,
     "metadata": {},
     "output_type": "execute_result"
    }
   ],
   "source": [
    "euclidepol(21, 15)"
   ]
  },
  {
   "cell_type": "markdown",
   "metadata": {},
   "source": [
    "## Exo 6.2"
   ]
  },
  {
   "cell_type": "markdown",
   "metadata": {},
   "source": [
    "Pas droit à ça:"
   ]
  },
  {
   "cell_type": "code",
   "execution_count": 5,
   "metadata": {},
   "outputs": [
    {
     "data": {
      "text/plain": [
       "x^10 + 7*x^5 + 8*x^4 + 10*x^3 + 6*x^2 + 6*x + 2"
      ]
     },
     "execution_count": 5,
     "metadata": {},
     "output_type": "execute_result"
    }
   ],
   "source": [
    "A.<x> = GF(11)[]\n",
    "A.irreducible_element(10)"
   ]
  },
  {
   "cell_type": "code",
   "execution_count": 6,
   "metadata": {},
   "outputs": [],
   "source": [
    "def premier(k, n):\n",
    "    '''\n",
    "    Cette fonction renvoie un polynôme irréductible de degre n dans k[x]\n",
    "    '''\n",
    "    A.<x> = k[]\n",
    "    P = A(0)\n",
    "    #print(P, P.parent())\n",
    "    while not P.is_irreducible():\n",
    "        P = A.random_element(n)\n",
    "        #print(P, P.parent())\n",
    "    return P"
   ]
  },
  {
   "cell_type": "code",
   "execution_count": 7,
   "metadata": {},
   "outputs": [
    {
     "data": {
      "text/plain": [
       "-4*x^11 + x^9 + x^8 - x^7 + x^6 - 1/5*x^5 + 1/7*x^4 + 1/4*x^3 - x^2 - x + 1"
      ]
     },
     "execution_count": 7,
     "metadata": {},
     "output_type": "execute_result"
    }
   ],
   "source": [
    "premier(QQ, 11)"
   ]
  },
  {
   "cell_type": "code",
   "execution_count": 8,
   "metadata": {},
   "outputs": [
    {
     "data": {
      "text/plain": [
       "x^11 - x^10 + 4*x^9 + x^8 + x^7 - x^6 + 3*x^3 + 3*x^2 + x + 1"
      ]
     },
     "execution_count": 8,
     "metadata": {},
     "output_type": "execute_result"
    }
   ],
   "source": [
    "premier(ZZ, 11)"
   ]
  },
  {
   "cell_type": "code",
   "execution_count": 9,
   "metadata": {},
   "outputs": [
    {
     "data": {
      "text/plain": [
       "4*x^11 + 2*x^9 + 8*x^8 + 4*x^7 + 2*x^6 + x^5 + 6*x^4 + 6*x^3 + 9*x^2 + 2*x + 10"
      ]
     },
     "execution_count": 9,
     "metadata": {},
     "output_type": "execute_result"
    }
   ],
   "source": [
    "premier(GF(11), 11)"
   ]
  },
  {
   "cell_type": "markdown",
   "metadata": {},
   "source": [
    "Les fonctions sont des \"objects de première classe en Python/Sage\": on peut les traiter comme toute autre valeur"
   ]
  },
  {
   "cell_type": "code",
   "execution_count": 10,
   "metadata": {},
   "outputs": [
    {
     "data": {
      "text/plain": [
       "<function premier at 0x7f1ff0c27b70>"
      ]
     },
     "execution_count": 10,
     "metadata": {},
     "output_type": "execute_result"
    }
   ],
   "source": [
    "premier"
   ]
  },
  {
   "cell_type": "markdown",
   "metadata": {},
   "source": [
    "Et on peut intérroger l'aide que nous avons saisie en entête de la définition de la fonction (le *docstring*)"
   ]
  },
  {
   "cell_type": "code",
   "execution_count": 11,
   "metadata": {},
   "outputs": [
    {
     "name": "stdout",
     "output_type": "stream",
     "text": [
      "Help on function premier in module __main__:\n",
      "\n",
      "premier(k, n)\n",
      "    Cette fonction renvoie un polynôme irréductible de degre n dans k[x]\n",
      "\n"
     ]
    }
   ],
   "source": [
    "help(premier)"
   ]
  },
  {
   "cell_type": "markdown",
   "metadata": {},
   "source": [
    "Attention à ne pas demander l'aide sur la valeur de retour de la fonction: cela veut dire toute autre chose (et donne une erreur dans ce cas)"
   ]
  },
  {
   "cell_type": "code",
   "execution_count": 12,
   "metadata": {},
   "outputs": [
    {
     "ename": "TypeError",
     "evalue": "premier() missing 2 required positional arguments: 'k' and 'n'",
     "output_type": "error",
     "traceback": [
      "\u001b[0;31m---------------------------------------------------------------------------\u001b[0m",
      "\u001b[0;31mTypeError\u001b[0m                                 Traceback (most recent call last)",
      "\u001b[0;32m<ipython-input-12-01fc944b2b39>\u001b[0m in \u001b[0;36m<module>\u001b[0;34m()\u001b[0m\n\u001b[0;32m----> 1\u001b[0;31m \u001b[0mhelp\u001b[0m\u001b[0;34m(\u001b[0m\u001b[0mpremier\u001b[0m\u001b[0;34m(\u001b[0m\u001b[0;34m)\u001b[0m\u001b[0;34m)\u001b[0m\u001b[0;34m\u001b[0m\u001b[0m\n\u001b[0m",
      "\u001b[0;31mTypeError\u001b[0m: premier() missing 2 required positional arguments: 'k' and 'n'"
     ]
    }
   ],
   "source": [
    "help(premier())"
   ]
  },
  {
   "cell_type": "markdown",
   "metadata": {},
   "source": [
    "## Exo 6.3"
   ]
  },
  {
   "cell_type": "markdown",
   "metadata": {},
   "source": [
    "Quelques exemples de *listes* en Python, d'abord"
   ]
  },
  {
   "cell_type": "code",
   "execution_count": 13,
   "metadata": {},
   "outputs": [
    {
     "data": {
      "text/plain": [
       "[1, 0, 2, 1, 0, 1]"
      ]
     },
     "execution_count": 13,
     "metadata": {},
     "output_type": "execute_result"
    }
   ],
   "source": [
    "a = [1, 0, 2, 1, 0, 1]\n",
    "a"
   ]
  },
  {
   "cell_type": "code",
   "execution_count": 14,
   "metadata": {},
   "outputs": [
    {
     "data": {
      "text/plain": [
       "<class 'list'>"
      ]
     },
     "execution_count": 14,
     "metadata": {},
     "output_type": "execute_result"
    }
   ],
   "source": [
    "type(a)"
   ]
  },
  {
   "cell_type": "code",
   "execution_count": 15,
   "metadata": {},
   "outputs": [
    {
     "data": {
      "text/plain": [
       "2"
      ]
     },
     "execution_count": 15,
     "metadata": {},
     "output_type": "execute_result"
    }
   ],
   "source": [
    "a[2]"
   ]
  },
  {
   "cell_type": "code",
   "execution_count": 16,
   "metadata": {},
   "outputs": [
    {
     "data": {
      "text/plain": [
       "[1, 2, 4, True, 'hello']"
      ]
     },
     "execution_count": 16,
     "metadata": {},
     "output_type": "execute_result"
    }
   ],
   "source": [
    "a = [1, 2, 4, True, \"hello\"]\n",
    "a"
   ]
  },
  {
   "cell_type": "code",
   "execution_count": 17,
   "metadata": {},
   "outputs": [
    {
     "data": {
      "text/plain": [
       "5"
      ]
     },
     "execution_count": 17,
     "metadata": {},
     "output_type": "execute_result"
    }
   ],
   "source": [
    "len(a)"
   ]
  },
  {
   "cell_type": "code",
   "execution_count": 18,
   "metadata": {},
   "outputs": [],
   "source": [
    "a.append(10)"
   ]
  },
  {
   "cell_type": "code",
   "execution_count": 19,
   "metadata": {},
   "outputs": [
    {
     "data": {
      "text/plain": [
       "[1, 2, 4, True, 'hello', 10]"
      ]
     },
     "execution_count": 19,
     "metadata": {},
     "output_type": "execute_result"
    }
   ],
   "source": [
    "a"
   ]
  },
  {
   "cell_type": "code",
   "execution_count": 20,
   "metadata": {},
   "outputs": [
    {
     "data": {
      "text/plain": [
       "[1, 2, 4, True, 'hello', 10, 1, 2, 4, True, 'hello', 10]"
      ]
     },
     "execution_count": 20,
     "metadata": {},
     "output_type": "execute_result"
    }
   ],
   "source": [
    "b = a + a\n",
    "b"
   ]
  },
  {
   "cell_type": "code",
   "execution_count": 21,
   "metadata": {},
   "outputs": [
    {
     "data": {
      "text/plain": [
       "[1, 2, 4, True, 'hello', 10]"
      ]
     },
     "execution_count": 21,
     "metadata": {},
     "output_type": "execute_result"
    }
   ],
   "source": [
    "a"
   ]
  },
  {
   "cell_type": "code",
   "execution_count": 22,
   "metadata": {},
   "outputs": [
    {
     "data": {
      "text/plain": [
       "1"
      ]
     },
     "execution_count": 22,
     "metadata": {},
     "output_type": "execute_result"
    }
   ],
   "source": [
    "a[0]"
   ]
  },
  {
   "cell_type": "code",
   "execution_count": 23,
   "metadata": {},
   "outputs": [
    {
     "data": {
      "text/plain": [
       "10"
      ]
     },
     "execution_count": 23,
     "metadata": {},
     "output_type": "execute_result"
    }
   ],
   "source": [
    "a[-1]"
   ]
  },
  {
   "cell_type": "code",
   "execution_count": 24,
   "metadata": {},
   "outputs": [
    {
     "data": {
      "text/plain": [
       "'hello'"
      ]
     },
     "execution_count": 24,
     "metadata": {},
     "output_type": "execute_result"
    }
   ],
   "source": [
    "a[-2]"
   ]
  },
  {
   "cell_type": "code",
   "execution_count": 25,
   "metadata": {},
   "outputs": [
    {
     "data": {
      "text/plain": [
       "[2, 4, True]"
      ]
     },
     "execution_count": 25,
     "metadata": {},
     "output_type": "execute_result"
    }
   ],
   "source": [
    "a[1:4]"
   ]
  },
  {
   "cell_type": "markdown",
   "metadata": {},
   "source": [
    "On peut maintenant passer à l'exercice: montrons d'abord comment convertir une liste en polynôme, et vice-versa"
   ]
  },
  {
   "cell_type": "code",
   "execution_count": 26,
   "metadata": {},
   "outputs": [],
   "source": [
    "p = 3\n",
    "n = 5\n",
    "k = GF(p)\n",
    "A.<x> = k[]"
   ]
  },
  {
   "cell_type": "code",
   "execution_count": 27,
   "metadata": {},
   "outputs": [
    {
     "data": {
      "text/plain": [
       "[1, 0, 2, 1, 0, 1]"
      ]
     },
     "execution_count": 27,
     "metadata": {},
     "output_type": "execute_result"
    }
   ],
   "source": [
    "a = [1, 0, 2, 1, 0, 1]\n",
    "a"
   ]
  },
  {
   "cell_type": "code",
   "execution_count": 28,
   "metadata": {},
   "outputs": [
    {
     "data": {
      "text/plain": [
       "x^5 + x^3 + 2*x^2 + 1"
      ]
     },
     "execution_count": 28,
     "metadata": {},
     "output_type": "execute_result"
    }
   ],
   "source": [
    "p = A(a)\n",
    "p"
   ]
  },
  {
   "cell_type": "code",
   "execution_count": 29,
   "metadata": {},
   "outputs": [
    {
     "data": {
      "text/plain": [
       "[1, 0, 2, 1, 0, 1]"
      ]
     },
     "execution_count": 29,
     "metadata": {},
     "output_type": "execute_result"
    }
   ],
   "source": [
    "p.list()"
   ]
  },
  {
   "cell_type": "markdown",
   "metadata": {},
   "source": [
    "Il nous faut énumérer les polynômes de $\\mathbb{F}_p[X]$ dans l'ordre lexicographique croissant, et nous arrêter dès que nous rencontrons un polynôme irréductible.\n",
    "\n",
    "Voici une idée: il y a une bijection entre les entiers écrits en base $p$ et les polynômes à coefficients dans $\\mathbb{F}$, et elle respecte l'ordre lexicographique. Écrivons donc une fonctions qui convertit un entier en un polynôme à coefficients dans $\\mathbb{F}$."
   ]
  },
  {
   "cell_type": "code",
   "execution_count": 32,
   "metadata": {},
   "outputs": [
    {
     "data": {
      "text/plain": [
       "[18, 42]"
      ]
     },
     "execution_count": 32,
     "metadata": {},
     "output_type": "execute_result"
    }
   ],
   "source": [
    "a = 3000\n",
    "a.digits(71)"
   ]
  },
  {
   "cell_type": "code",
   "execution_count": 33,
   "metadata": {},
   "outputs": [],
   "source": [
    "def int_to_fpx(entier, p):\n",
    "    '''\n",
    "    Convertit entier en un polynôme à coefficients dans GF(p)\n",
    "    '''\n",
    "    A.<x> = GF(p)[]\n",
    "    return A(entier.digits(p))"
   ]
  },
  {
   "cell_type": "code",
   "execution_count": 35,
   "metadata": {},
   "outputs": [
    {
     "ename": "AttributeError",
     "evalue": "'int' object has no attribute 'digits'",
     "output_type": "error",
     "traceback": [
      "\u001b[0;31m---------------------------------------------------------------------------\u001b[0m",
      "\u001b[0;31mAttributeError\u001b[0m                            Traceback (most recent call last)",
      "\u001b[0;32m<ipython-input-35-ae85886c8d32>\u001b[0m in \u001b[0;36m<module>\u001b[0;34m()\u001b[0m\n\u001b[1;32m      1\u001b[0m \u001b[0;32mfor\u001b[0m \u001b[0mi\u001b[0m \u001b[0;32min\u001b[0m \u001b[0mrange\u001b[0m\u001b[0;34m(\u001b[0m\u001b[0mInteger\u001b[0m\u001b[0;34m(\u001b[0m\u001b[0;36m20\u001b[0m\u001b[0;34m)\u001b[0m\u001b[0;34m)\u001b[0m\u001b[0;34m:\u001b[0m\u001b[0;34m\u001b[0m\u001b[0m\n\u001b[0;32m----> 2\u001b[0;31m     \u001b[0mprint\u001b[0m\u001b[0;34m(\u001b[0m\u001b[0mint_to_fpx\u001b[0m\u001b[0;34m(\u001b[0m\u001b[0mi\u001b[0m\u001b[0;34m,\u001b[0m \u001b[0mInteger\u001b[0m\u001b[0;34m(\u001b[0m\u001b[0;36m3\u001b[0m\u001b[0;34m)\u001b[0m\u001b[0;34m)\u001b[0m\u001b[0;34m)\u001b[0m\u001b[0;34m\u001b[0m\u001b[0m\n\u001b[0m",
      "\u001b[0;32m<ipython-input-33-0aed7187b445>\u001b[0m in \u001b[0;36mint_to_fpx\u001b[0;34m(entier, p)\u001b[0m\n\u001b[1;32m      4\u001b[0m     '''\n\u001b[1;32m      5\u001b[0m     \u001b[0mA\u001b[0m \u001b[0;34m=\u001b[0m \u001b[0mGF\u001b[0m\u001b[0;34m(\u001b[0m\u001b[0mp\u001b[0m\u001b[0;34m)\u001b[0m\u001b[0;34m[\u001b[0m\u001b[0;34m'x'\u001b[0m\u001b[0;34m]\u001b[0m\u001b[0;34m;\u001b[0m \u001b[0;34m(\u001b[0m\u001b[0mx\u001b[0m\u001b[0;34m,\u001b[0m\u001b[0;34m)\u001b[0m \u001b[0;34m=\u001b[0m \u001b[0mA\u001b[0m\u001b[0;34m.\u001b[0m\u001b[0m_first_ngens\u001b[0m\u001b[0;34m(\u001b[0m\u001b[0;36m1\u001b[0m\u001b[0;34m)\u001b[0m\u001b[0;34m\u001b[0m\u001b[0m\n\u001b[0;32m----> 6\u001b[0;31m     \u001b[0;32mreturn\u001b[0m \u001b[0mA\u001b[0m\u001b[0;34m(\u001b[0m\u001b[0mentier\u001b[0m\u001b[0;34m.\u001b[0m\u001b[0mdigits\u001b[0m\u001b[0;34m(\u001b[0m\u001b[0mp\u001b[0m\u001b[0;34m)\u001b[0m\u001b[0;34m)\u001b[0m\u001b[0;34m\u001b[0m\u001b[0m\n\u001b[0m",
      "\u001b[0;31mAttributeError\u001b[0m: 'int' object has no attribute 'digits'"
     ]
    }
   ],
   "source": [
    "for i in range(20):\n",
    "    print(int_to_fpx(i, 3))"
   ]
  },
  {
   "cell_type": "markdown",
   "metadata": {},
   "source": [
    "Oups! La fonction `range()` itère sur des entiers Python, pas des entiers Sage. En effet:"
   ]
  },
  {
   "cell_type": "code",
   "execution_count": 36,
   "metadata": {},
   "outputs": [
    {
     "data": {
      "text/plain": [
       "<class 'sage.rings.integer.Integer'>"
      ]
     },
     "execution_count": 36,
     "metadata": {},
     "output_type": "execute_result"
    }
   ],
   "source": [
    "a = 3\n",
    "type(a)"
   ]
  },
  {
   "cell_type": "code",
   "execution_count": 37,
   "metadata": {},
   "outputs": [
    {
     "data": {
      "text/plain": [
       "3"
      ]
     },
     "execution_count": 37,
     "metadata": {},
     "output_type": "execute_result"
    }
   ],
   "source": [
    "a = range(10)[3]\n",
    "a"
   ]
  },
  {
   "cell_type": "code",
   "execution_count": 38,
   "metadata": {},
   "outputs": [
    {
     "data": {
      "text/plain": [
       "<class 'int'>"
      ]
     },
     "execution_count": 38,
     "metadata": {},
     "output_type": "execute_result"
    }
   ],
   "source": [
    "type(a)"
   ]
  },
  {
   "cell_type": "markdown",
   "metadata": {},
   "source": [
    "Pour régler cela, on peut utiliser `ZZ.range()`"
   ]
  },
  {
   "cell_type": "code",
   "execution_count": 39,
   "metadata": {},
   "outputs": [
    {
     "name": "stdout",
     "output_type": "stream",
     "text": [
      "0\n",
      "1\n",
      "2\n",
      "x\n",
      "x + 1\n",
      "x + 2\n",
      "2*x\n",
      "2*x + 1\n",
      "2*x + 2\n",
      "x^2\n",
      "x^2 + 1\n",
      "x^2 + 2\n",
      "x^2 + x\n",
      "x^2 + x + 1\n",
      "x^2 + x + 2\n"
     ]
    }
   ],
   "source": [
    "for i in ZZ.range(15):\n",
    "    print(int_to_fpx(i, 3))"
   ]
  },
  {
   "cell_type": "markdown",
   "metadata": {},
   "source": [
    "Nous pouvons finalement résoudre l'exercice"
   ]
  },
  {
   "cell_type": "code",
   "execution_count": 40,
   "metadata": {},
   "outputs": [],
   "source": [
    "def irred_min_lex(p, n):\n",
    "    '''\n",
    "    Donne le plus petit polynôme irréductible de degré n sur GF(p)\n",
    "    '''\n",
    "    A.<x> = GF(p)[]\n",
    "    compteur = p^n\n",
    "    P = int_to_fpx(compteur, p)\n",
    "    while not P.is_irreducible():\n",
    "        print(P)\n",
    "        compteur += 1\n",
    "        P = int_to_fpx(compteur, p)\n",
    "    return P"
   ]
  },
  {
   "cell_type": "code",
   "execution_count": 41,
   "metadata": {},
   "outputs": [
    {
     "name": "stdout",
     "output_type": "stream",
     "text": [
      "x^5\n",
      "x^5 + 1\n",
      "x^5 + 2\n",
      "x^5 + x\n",
      "x^5 + x + 1\n",
      "x^5 + x + 2\n",
      "x^5 + 2*x\n"
     ]
    },
    {
     "data": {
      "text/plain": [
       "x^5 + 2*x + 1"
      ]
     },
     "execution_count": 41,
     "metadata": {},
     "output_type": "execute_result"
    }
   ],
   "source": [
    "irred_min_lex(3, 5)"
   ]
  },
  {
   "cell_type": "markdown",
   "metadata": {},
   "source": [
    "Mais, en fait, Sage connaît déjà l'ordre lexicographique sur les polynômes de $\\mathbb{F}_p$:"
   ]
  },
  {
   "cell_type": "code",
   "execution_count": 42,
   "metadata": {},
   "outputs": [
    {
     "data": {
      "text/plain": [
       "[2*x^5 + x^4 + 2*x,\n",
       " x^5 + x^3 + x^2 + 2*x,\n",
       " x^5 + x^4 + x^3 + x^2 + 2*x,\n",
       " x^5 + x^4 + 2*x^3 + x^2 + 2*x + 1,\n",
       " x^5 + x^4 + x^2 + 2*x + 1,\n",
       " x^5 + x,\n",
       " 2*x^5 + 2*x^4 + x^2 + x + 2,\n",
       " x^5 + x^4 + x^2,\n",
       " 2*x^5 + x^4 + 2*x^2 + 2*x,\n",
       " x^5 + 2*x^4 + x^3 + x + 1]"
      ]
     },
     "execution_count": 42,
     "metadata": {},
     "output_type": "execute_result"
    }
   ],
   "source": [
    "a = [A.random_element(n) for i in range(10)]\n",
    "a"
   ]
  },
  {
   "cell_type": "code",
   "execution_count": 43,
   "metadata": {},
   "outputs": [
    {
     "data": {
      "text/plain": [
       "[x^5 + x,\n",
       " x^5 + x^3 + x^2 + 2*x,\n",
       " x^5 + x^4 + x^2,\n",
       " x^5 + x^4 + x^2 + 2*x + 1,\n",
       " x^5 + x^4 + x^3 + x^2 + 2*x,\n",
       " x^5 + x^4 + 2*x^3 + x^2 + 2*x + 1,\n",
       " x^5 + 2*x^4 + x^3 + x + 1,\n",
       " 2*x^5 + x^4 + 2*x,\n",
       " 2*x^5 + x^4 + 2*x^2 + 2*x,\n",
       " 2*x^5 + 2*x^4 + x^2 + x + 2]"
      ]
     },
     "execution_count": 43,
     "metadata": {},
     "output_type": "execute_result"
    }
   ],
   "source": [
    "sorted(a)"
   ]
  },
  {
   "cell_type": "markdown",
   "metadata": {},
   "source": [
    "Et il existe même une fonction pour itérer sur tous les polynômes d'un degré donné (qui se trouve itérer dans l'ordre lexicographique, même si cela n'est pas documenté)"
   ]
  },
  {
   "cell_type": "code",
   "execution_count": 44,
   "metadata": {},
   "outputs": [
    {
     "name": "stdout",
     "output_type": "stream",
     "text": [
      "Help on method polynomials in module sage.rings.polynomial.polynomial_ring:\n",
      "\n",
      "polynomials(of_degree=None, max_degree=None) method of sage.rings.polynomial.polynomial_ring.PolynomialRing_dense_mod_p_with_category instance\n",
      "    Return an iterator over the polynomials of specified degree.\n",
      "    \n",
      "    INPUT: Pass exactly one of:\n",
      "    \n",
      "    \n",
      "    -  ``max_degree`` - an int; the iterator will generate\n",
      "       all polynomials which have degree less than or equal to\n",
      "       max_degree\n",
      "    \n",
      "    -  ``of_degree`` - an int; the iterator will generate\n",
      "       all polynomials which have degree of_degree\n",
      "    \n",
      "    \n",
      "    OUTPUT: an iterator\n",
      "    \n",
      "    EXAMPLES::\n",
      "    \n",
      "        sage: P = PolynomialRing(GF(3),'y')\n",
      "        sage: for p in P.polynomials( of_degree = 2 ): print(p)\n",
      "        y^2\n",
      "        y^2 + 1\n",
      "        y^2 + 2\n",
      "        y^2 + y\n",
      "        y^2 + y + 1\n",
      "        y^2 + y + 2\n",
      "        y^2 + 2*y\n",
      "        y^2 + 2*y + 1\n",
      "        y^2 + 2*y + 2\n",
      "        2*y^2\n",
      "        2*y^2 + 1\n",
      "        2*y^2 + 2\n",
      "        2*y^2 + y\n",
      "        2*y^2 + y + 1\n",
      "        2*y^2 + y + 2\n",
      "        2*y^2 + 2*y\n",
      "        2*y^2 + 2*y + 1\n",
      "        2*y^2 + 2*y + 2\n",
      "        sage: for p in P.polynomials( max_degree = 1 ): print(p)\n",
      "        0\n",
      "        1\n",
      "        2\n",
      "        y\n",
      "        y + 1\n",
      "        y + 2\n",
      "        2*y\n",
      "        2*y + 1\n",
      "        2*y + 2\n",
      "        sage: for p in P.polynomials( max_degree = 1, of_degree = 3 ): print(p)\n",
      "        Traceback (most recent call last):\n",
      "        ...\n",
      "        ValueError: you should pass exactly one of of_degree and max_degree\n",
      "    \n",
      "    AUTHORS:\n",
      "    \n",
      "    - Joel B. Mohler\n",
      "\n"
     ]
    }
   ],
   "source": [
    "help(A.polynomials)"
   ]
  },
  {
   "cell_type": "markdown",
   "metadata": {},
   "source": [
    "Nous pouvons récrire la fonction précédente avec une *compréhension de listes* assez transparente."
   ]
  },
  {
   "cell_type": "code",
   "execution_count": 45,
   "metadata": {},
   "outputs": [],
   "source": [
    "def irred_min_exp(p, n):\n",
    "    A = GF(p)['x']\n",
    "    return min([P for P in A.polynomials(of_degree=n) if P.is_irreducible()])"
   ]
  },
  {
   "cell_type": "markdown",
   "metadata": {},
   "source": [
    "Cependant, cette version est très lente, puisqu'elle ne s'arrête pas au premier polynôme irréductible trouvé:"
   ]
  },
  {
   "cell_type": "code",
   "execution_count": 46,
   "metadata": {},
   "outputs": [
    {
     "name": "stdout",
     "output_type": "stream",
     "text": [
      "CPU times: user 13.9 s, sys: 88.6 ms, total: 13.9 s\n",
      "Wall time: 13.9 s\n"
     ]
    },
    {
     "data": {
      "text/plain": [
       "x^11 + x^2 + 2"
      ]
     },
     "execution_count": 46,
     "metadata": {},
     "output_type": "execute_result"
    }
   ],
   "source": [
    "%time irred_min_exp(3, 11)"
   ]
  },
  {
   "cell_type": "markdown",
   "metadata": {},
   "source": [
    "Voici une version équivalente, mais avec la compréhension de liste déroulée, et qui s'arrête dès le premier polynôme irréductible"
   ]
  },
  {
   "cell_type": "code",
   "execution_count": 47,
   "metadata": {},
   "outputs": [],
   "source": [
    "def irred_min_for(p, n):\n",
    "    A = GF(p)['x']\n",
    "    for P in A.polynomials(of_degree=n):\n",
    "        if P.is_irreducible():\n",
    "            return P"
   ]
  },
  {
   "cell_type": "code",
   "execution_count": 48,
   "metadata": {},
   "outputs": [
    {
     "name": "stdout",
     "output_type": "stream",
     "text": [
      "CPU times: user 952 µs, sys: 0 ns, total: 952 µs\n",
      "Wall time: 959 µs\n"
     ]
    },
    {
     "data": {
      "text/plain": [
       "x^11 + x^2 + 2"
      ]
     },
     "execution_count": 48,
     "metadata": {},
     "output_type": "execute_result"
    }
   ],
   "source": [
    "%time irred_min_for(3, 11)"
   ]
  },
  {
   "cell_type": "markdown",
   "metadata": {},
   "source": [
    "Et voici, enfin, une autre version qui utilise une compréhension de listes, qui suppose que `A.polynomials()` donne les polynômes en ordre lexicographique, et qui est très efficace grâce à la syntaxe des *générateurs* Python."
   ]
  },
  {
   "cell_type": "code",
   "execution_count": 49,
   "metadata": {},
   "outputs": [],
   "source": [
    "def irred_min_fast(p, n):\n",
    "    A = GF(p)['x']\n",
    "    return next(P for P in A.polynomials(of_degree=n) if P.is_irreducible())"
   ]
  },
  {
   "cell_type": "code",
   "execution_count": 50,
   "metadata": {},
   "outputs": [
    {
     "name": "stdout",
     "output_type": "stream",
     "text": [
      "CPU times: user 818 µs, sys: 0 ns, total: 818 µs\n",
      "Wall time: 823 µs\n"
     ]
    },
    {
     "data": {
      "text/plain": [
       "x^11 + x^2 + 2"
      ]
     },
     "execution_count": 50,
     "metadata": {},
     "output_type": "execute_result"
    }
   ],
   "source": [
    "%time irred_min_fast(3, 11)"
   ]
  },
  {
   "cell_type": "code",
   "execution_count": null,
   "metadata": {},
   "outputs": [],
   "source": []
  }
 ],
 "metadata": {
  "kernelspec": {
   "display_name": "SageMath 8.3",
   "language": "",
   "name": "sagemath"
  },
  "language_info": {
   "codemirror_mode": {
    "name": "ipython",
    "version": 3
   },
   "file_extension": ".py",
   "mimetype": "text/x-python",
   "name": "python",
   "nbconvert_exporter": "python",
   "pygments_lexer": "ipython3",
   "version": "3.6.3"
  }
 },
 "nbformat": 4,
 "nbformat_minor": 2
}
