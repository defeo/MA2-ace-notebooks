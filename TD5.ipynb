{
 "cells": [
  {
   "cell_type": "markdown",
   "metadata": {},
   "source": [
    "# TD 5\n",
    "\n",
    "## Exo 7.7"
   ]
  },
  {
   "cell_type": "code",
   "execution_count": 1,
   "metadata": {},
   "outputs": [],
   "source": [
    "A.<x,y> = QQ[]\n",
    "I = A.ideal(x - y^2,\n",
    "            x*y - x)"
   ]
  },
  {
   "cell_type": "code",
   "execution_count": 2,
   "metadata": {},
   "outputs": [
    {
     "data": {
      "text/plain": [
       "[x^2 - x, x*y - x, y^2 - x]"
      ]
     },
     "execution_count": 2,
     "metadata": {},
     "output_type": "execute_result"
    }
   ],
   "source": [
    "G = I.groebner_basis()\n",
    "G"
   ]
  },
  {
   "cell_type": "code",
   "execution_count": 3,
   "metadata": {},
   "outputs": [
    {
     "data": {
      "text/plain": [
       "[x - y^2, y^3 - y^2]"
      ]
     },
     "execution_count": 3,
     "metadata": {},
     "output_type": "execute_result"
    }
   ],
   "source": [
    "I.change_ring(A.change_ring(order='lex')).groebner_basis()"
   ]
  },
  {
   "cell_type": "code",
   "execution_count": 4,
   "metadata": {},
   "outputs": [
    {
     "data": {
      "text/plain": [
       "[x^2 - x, x*y - x, y^2 - x]"
      ]
     },
     "execution_count": 4,
     "metadata": {},
     "output_type": "execute_result"
    }
   ],
   "source": [
    "I.change_ring(A.change_ring(order='deglex')).groebner_basis()"
   ]
  },
  {
   "cell_type": "code",
   "execution_count": 6,
   "metadata": {},
   "outputs": [
    {
     "data": {
      "text/plain": [
       "[y^2 - x, x*y - x, x^2 - x]"
      ]
     },
     "execution_count": 6,
     "metadata": {},
     "output_type": "execute_result"
    }
   ],
   "source": [
    "I.change_ring(A.change_ring(order='invlex')).groebner_basis()"
   ]
  },
  {
   "cell_type": "markdown",
   "metadata": {},
   "source": [
    "On peut essayer des ordres plus compliqués"
   ]
  },
  {
   "cell_type": "code",
   "execution_count": 7,
   "metadata": {},
   "outputs": [
    {
     "name": "stdout",
     "output_type": "stream",
     "text": [
      "Help on class TermOrder in module sage.rings.polynomial.term_order:\n",
      "\n",
      "class TermOrder(sage.structure.sage_object.SageObject)\n",
      " |  A term order.\n",
      " |  \n",
      " |  See ``sage.rings.polynomial.term_order`` for details on supported\n",
      " |  term orders.\n",
      " |  \n",
      " |  Method resolution order:\n",
      " |      TermOrder\n",
      " |      sage.structure.sage_object.SageObject\n",
      " |      builtins.object\n",
      " |  \n",
      " |  Methods defined here:\n",
      " |  \n",
      " |  __add__(self, other)\n",
      " |      Construct a block order combining self and other.\n",
      " |      \n",
      " |      INPUT:\n",
      " |      \n",
      " |      - ``other`` - a term order\n",
      " |      \n",
      " |      OUTPUT: a block order\n",
      " |      \n",
      " |      EXAMPLES::\n",
      " |      \n",
      " |          sage: from sage.rings.polynomial.term_order import TermOrder\n",
      " |          sage: TermOrder('deglex',2) + TermOrder('degrevlex(3),neglex(3)')\n",
      " |          Block term order with blocks:\n",
      " |          (Degree lexicographic term order of length 2,\n",
      " |           Degree reverse lexicographic term order of length 3,\n",
      " |           Negative lexicographic term order of length 3)\n",
      " |  \n",
      " |  __eq__(self, other)\n",
      " |      Return true if self and other are equal.\n",
      " |      \n",
      " |      EXAMPLES::\n",
      " |      \n",
      " |          sage: TermOrder('lex') == TermOrder('lex',3)\n",
      " |          True\n",
      " |      \n",
      " |      ::\n",
      " |      \n",
      " |          sage: TermOrder('degrevlex') == TermOrder('lex')\n",
      " |          False\n",
      " |      \n",
      " |      ::\n",
      " |      \n",
      " |          sage: T1 = TermOrder('lex',2)+TermOrder('lex',3)\n",
      " |          sage: T2 = TermOrder('lex',3)+TermOrder('lex',2)\n",
      " |          sage: T1 == T2\n",
      " |          True\n",
      " |      \n",
      " |      ::\n",
      " |      \n",
      " |          sage: T1 = TermOrder('lex',2)+TermOrder('neglex',3)\n",
      " |          sage: T2 = TermOrder('lex',2)+TermOrder('neglex',3)\n",
      " |          sage: T1 == T2\n",
      " |          True\n",
      " |  \n",
      " |  __getattr__(self, name)\n",
      " |      Return the correct ``compare_tuples/greater_tuple/sortkey function``.\n",
      " |      \n",
      " |      Note that the ``compare_tuples`` methods have been deprecated in\n",
      " |      :trac:`21766`.\n",
      " |      \n",
      " |      EXAMPLES::\n",
      " |      \n",
      " |          sage: TermOrder('lex').compare_tuples\n",
      " |          <bound method TermOrder.compare_tuples_lex of Lexicographic term order>\n",
      " |          sage: TermOrder('lex').sortkey\n",
      " |          <bound method TermOrder.sortkey_lex of Lexicographic term order>\n",
      " |          sage: TermOrder('deglex').compare_tuples\n",
      " |          <bound method TermOrder.compare_tuples_deglex of Degree lexicographic term order>\n",
      " |  \n",
      " |  __getitem__(self, i)\n",
      " |      Return the i-th block of this term order.\n",
      " |      \n",
      " |      INPUT:\n",
      " |      \n",
      " |      - ``i`` - index\n",
      " |      \n",
      " |      EXAMPLES::\n",
      " |      \n",
      " |          sage: T = TermOrder('lex')\n",
      " |          sage: T[0]\n",
      " |          Lexicographic term order\n",
      " |      \n",
      " |      ::\n",
      " |      \n",
      " |          sage: T = TermOrder('lex', 2) + TermOrder('degrevlex', 3)\n",
      " |          sage: T[1]\n",
      " |          Degree reverse lexicographic term order\n",
      " |      \n",
      " |      Note that ``len(self)`` does not count blocks but\n",
      " |      variables.\n",
      " |      \n",
      " |      ::\n",
      " |      \n",
      " |          sage: T = TermOrder('lex', 2) + TermOrder('degrevlex', 3)\n",
      " |          sage: T[len(T)-1]\n",
      " |          Traceback (most recent call last):\n",
      " |          \\dots\n",
      " |          IndexError: tuple index out of range\n",
      " |  \n",
      " |  __hash__(self)\n",
      " |      A hash function\n",
      " |      \n",
      " |      EXAMPLES::\n",
      " |      \n",
      " |          sage: _=hash(TermOrder('lex'))\n",
      " |  \n",
      " |  __init__(self, name='lex', n=0, force=False)\n",
      " |      Construct a new term order object.\n",
      " |      \n",
      " |      INPUT:\n",
      " |      \n",
      " |      - ``name`` - name of the term order (default: lex)\n",
      " |      \n",
      " |      - ``n`` - number of variables (default is `0`) weights for\n",
      " |        weighted degree orders. The weights are converted to\n",
      " |        integers and must be positive.\n",
      " |      \n",
      " |      - ``force`` - ignore unknown term orders.\n",
      " |      \n",
      " |      See the ``sage.rings.polynomial.term_order`` module\n",
      " |      for help which names and orders are available.\n",
      " |      \n",
      " |      EXAMPLES::\n",
      " |      \n",
      " |          sage: t = TermOrder('lex')\n",
      " |          sage: t\n",
      " |          Lexicographic term order\n",
      " |          sage: loads(dumps(t)) == t\n",
      " |          True\n",
      " |      \n",
      " |      We can construct block orders directly as::\n",
      " |      \n",
      " |          sage: TermOrder('degrevlex(3),neglex(2)')\n",
      " |          Block term order with blocks:\n",
      " |          (Degree reverse lexicographic term order of length 3,\n",
      " |           Negative lexicographic term order of length 2)\n",
      " |      \n",
      " |      or by adding together the blocks::\n",
      " |      \n",
      " |          sage: t1 = TermOrder('degrevlex',3)\n",
      " |          sage: t2 = TermOrder('neglex',2)\n",
      " |          sage: t1 + t2\n",
      " |          Block term order with blocks:\n",
      " |          (Degree reverse lexicographic term order of length 3,\n",
      " |           Negative lexicographic term order of length 2)\n",
      " |          sage: t3 = TermOrder('wdeglex',(1,2))\n",
      " |          sage: t1 + t3\n",
      " |          Block term order with blocks:\n",
      " |          (Degree reverse lexicographic term order of length 3,\n",
      " |           Weighted degree lexicographic term order with weights (1, 2))\n",
      " |          sage: t4 = TermOrder('degneglex')\n",
      " |          sage: t4\n",
      " |          Degree negative lexicographic term order\n",
      " |      \n",
      " |      We allow blocks of length 0, these are simply ignored::\n",
      " |      \n",
      " |          sage: TermOrder('lex(0),degrevlex(5),deglex(0),deglex(2)')\n",
      " |          Block term order with blocks:\n",
      " |          (Degree reverse lexicographic term order of length 5,\n",
      " |           Degree lexicographic term order of length 2)\n",
      " |      \n",
      " |      .. note::\n",
      " |      \n",
      " |         The optional `n` parameter is not necessary if only\n",
      " |         non-block orders like `deglex` are\n",
      " |         constructed. However, it is useful if block orders are\n",
      " |         to be constructed from this ``TermOrder`` object later.\n",
      " |      \n",
      " |      TESTS:\n",
      " |      \n",
      " |      We demonstrate that non-positive weights are refused and non-integral weights\n",
      " |      are converted to integers (and potentially rounded)::\n",
      " |      \n",
      " |          sage: N.<a,b,c> = PolynomialRing(QQ, 3, order=TermOrder('wdeglex',[-1,2,-3]))\n",
      " |          Traceback (most recent call last):\n",
      " |          ...\n",
      " |          ValueError: the degree weights must be positive integers\n",
      " |          sage: N.<a,b,c> = PolynomialRing(QQ, 3, order=TermOrder('wdeglex',[1.1,2,3]))\n",
      " |          sage: a.degree()\n",
      " |          1\n",
      " |      \n",
      " |      We enforce consistency when calling the copy constructor (cf.\n",
      " |      :trac:`12748`)::\n",
      " |      \n",
      " |          sage: T = TermOrder('degrevlex', 6) + TermOrder('degrevlex',10)\n",
      " |          sage: R.<x0,y0,z0,x1,y1,z1,a0,a1,a2,a3,a4,a5,a6,a7,a8> = PolynomialRing(QQ,order=T)\n",
      " |          Traceback (most recent call last):\n",
      " |          ...\n",
      " |          ValueError: the length of the given term order (16) differs from the number of variables (15)\n",
      " |  \n",
      " |  __iter__(self)\n",
      " |      Iterate over the blocks of this term order.\n",
      " |      \n",
      " |      EXAMPLES::\n",
      " |      \n",
      " |          sage: T = TermOrder('lex')\n",
      " |          sage: list(T) # indirect doctest\n",
      " |          [Lexicographic term order]\n",
      " |      \n",
      " |      ::\n",
      " |      \n",
      " |          sage: T = TermOrder('lex', 2) + TermOrder('degrevlex', 3)\n",
      " |          sage: list(T)\n",
      " |          [Lexicographic term order, Degree reverse lexicographic term order]\n",
      " |      \n",
      " |      Note that ``len(self)`` and\n",
      " |      ``len(list(self))`` are not the same. The former counts\n",
      " |      the number of variables in ``self`` while the latter\n",
      " |      counts the number of blocks.\n",
      " |  \n",
      " |  __len__(self)\n",
      " |      Return the length of this term order, i.e. the number of\n",
      " |      variables it covers. This may be zero for indefinitely many\n",
      " |      variables.\n",
      " |      \n",
      " |      EXAMPLES::\n",
      " |      \n",
      " |          sage: T = TermOrder('lex')\n",
      " |          sage: len(T)\n",
      " |          0\n",
      " |          sage: T = TermOrder('lex', 2) + TermOrder('degrevlex', 3)\n",
      " |          sage: len(T)\n",
      " |          5\n",
      " |  \n",
      " |  __ne__(self, other)\n",
      " |      Return true if self and other are not equal.\n",
      " |      \n",
      " |      EXAMPLES::\n",
      " |      \n",
      " |          sage: T1 = TermOrder('lex',2)+TermOrder('lex',3)\n",
      " |          sage: T2 = TermOrder('lex',3)+TermOrder('lex',2)\n",
      " |          sage: T1 != T2\n",
      " |          False\n",
      " |  \n",
      " |  __setstate__(self, dict)\n",
      " |      Translate old pickled TermOrder objects.\n",
      " |      \n",
      " |      See Trac :trac:`11316`.\n",
      " |      \n",
      " |      EXAMPLES::\n",
      " |      \n",
      " |          sage: t = TermOrder('lex')\n",
      " |          sage: t2 = loads(dumps(t))\n",
      " |          sage: t2._weights is None\n",
      " |          True\n",
      " |  \n",
      " |  blocks(self)\n",
      " |      Return the term order blocks of self.\n",
      " |      \n",
      " |      NOTE:\n",
      " |      \n",
      " |      This method has been added in :trac:`11316`. There used\n",
      " |      to be an *attribute* of the same name and the same content.\n",
      " |      So, it is a backward incompatible syntax change.\n",
      " |      \n",
      " |      EXAMPLES::\n",
      " |      \n",
      " |          sage: t=TermOrder('deglex',2)+TermOrder('lex',2)\n",
      " |          sage: t.blocks()\n",
      " |          (Degree lexicographic term order, Lexicographic term order)\n",
      " |  \n",
      " |  compare_tuples_block(self, f, g)\n",
      " |      DEPRECATED in :trac:`21766`\n",
      " |  \n",
      " |  compare_tuples_deglex(self, f, g)\n",
      " |      DEPRECATED in :trac:`21766`\n",
      " |  \n",
      " |  compare_tuples_degneglex(self, f, g)\n",
      " |      DEPRECATED in :trac:`21766`\n",
      " |  \n",
      " |  compare_tuples_degrevlex(self, f, g)\n",
      " |      DEPRECATED in :trac:`21766`\n",
      " |  \n",
      " |  compare_tuples_invlex(self, f, g)\n",
      " |      DEPRECATED in :trac:`21766`\n",
      " |  \n",
      " |  compare_tuples_lex(self, f, g)\n",
      " |      DEPRECATED in :trac:`21766`\n",
      " |  \n",
      " |  compare_tuples_matrix(self, f, g)\n",
      " |      DEPRECATED in :trac:`21766`\n",
      " |  \n",
      " |  compare_tuples_negdeglex(self, f, g)\n",
      " |      DEPRECATED in :trac:`21766`\n",
      " |  \n",
      " |  compare_tuples_negdegrevlex(self, f, g)\n",
      " |      DEPRECATED in :trac:`21766`\n",
      " |  \n",
      " |  compare_tuples_neglex(self, f, g)\n",
      " |      DEPRECATED in :trac:`21766`\n",
      " |  \n",
      " |  compare_tuples_negwdeglex(self, f, g)\n",
      " |      DEPRECATED in :trac:`21766`\n",
      " |  \n",
      " |  compare_tuples_negwdegrevlex(self, f, g)\n",
      " |      DEPRECATED in :trac:`21766`\n",
      " |  \n",
      " |  compare_tuples_wdeglex(self, f, g)\n",
      " |      DEPRECATED in :trac:`21766`\n",
      " |  \n",
      " |  compare_tuples_wdegrevlex(self, f, g)\n",
      " |      DEPRECATED in :trac:`21766`\n",
      " |  \n",
      " |  greater_tuple_block(self, f, g)\n",
      " |      Return the greater exponent tuple with respect to the block\n",
      " |      order as specified when constructing this element.\n",
      " |      \n",
      " |      This method is called by the lm/lc/lt methods of\n",
      " |      ``MPolynomial_polydict``.\n",
      " |      \n",
      " |      INPUT:\n",
      " |      \n",
      " |      - ``f`` - exponent tuple\n",
      " |      \n",
      " |      - ``g`` - exponent tuple\n",
      " |      \n",
      " |      EXAMPLES::\n",
      " |      \n",
      " |          sage: P.<a,b,c,d,e,f>=PolynomialRing(QQbar, 6, order='degrevlex(3),degrevlex(3)')\n",
      " |          sage: f = a + c^4; f.lm() # indirect doctest\n",
      " |          c^4\n",
      " |          sage: g = a + e^4; g.lm()\n",
      " |          a\n",
      " |  \n",
      " |  greater_tuple_deglex(self, f, g)\n",
      " |      Return the greater exponent tuple with respect to the total degree\n",
      " |      lexicographical term order.\n",
      " |      \n",
      " |      INPUT:\n",
      " |      \n",
      " |      - ``f`` - exponent tuple\n",
      " |      \n",
      " |      - ``g`` - exponent tuple\n",
      " |      \n",
      " |      EXAMPLES::\n",
      " |      \n",
      " |          sage: P.<x,y,z> = PolynomialRing(QQbar, 3, order='deglex')\n",
      " |          sage: f = x + y; f.lm() # indirect doctest\n",
      " |          x\n",
      " |          sage: f = x + y^2*z; f.lm()\n",
      " |          y^2*z\n",
      " |      \n",
      " |      This method is called by the lm/lc/lt methods of\n",
      " |      ``MPolynomial_polydict``.\n",
      " |  \n",
      " |  greater_tuple_degneglex(self, f, g)\n",
      " |      Return the greater exponent tuple with respect to the degree negative\n",
      " |      lexicographical term order.\n",
      " |      \n",
      " |      INPUT:\n",
      " |      \n",
      " |      - ``f`` - exponent tuple\n",
      " |      \n",
      " |      - ``g`` - exponent tuple\n",
      " |      \n",
      " |      EXAMPLES::\n",
      " |      \n",
      " |          sage: P.<x,y,z> = PolynomialRing(QQbar, 3, order='degneglex')\n",
      " |          sage: f = x + y; f.lm() # indirect doctest\n",
      " |          y\n",
      " |          sage: f = x + y^2*z; f.lm()\n",
      " |          y^2*z\n",
      " |      \n",
      " |      This method is called by the lm/lc/lt methods of\n",
      " |      ``MPolynomial_polydict``.\n",
      " |  \n",
      " |  greater_tuple_degrevlex(self, f, g)\n",
      " |      Return the greater exponent tuple with respect to the total degree\n",
      " |      reversed lexicographical term order.\n",
      " |      \n",
      " |      INPUT:\n",
      " |      \n",
      " |      - ``f`` - exponent tuple\n",
      " |      \n",
      " |      - ``g`` - exponent tuple\n",
      " |      \n",
      " |      EXAMPLES::\n",
      " |      \n",
      " |          sage: P.<x,y,z> = PolynomialRing(QQbar, 3, order='degrevlex')\n",
      " |          sage: f = x + y; f.lm() # indirect doctest\n",
      " |          x\n",
      " |          sage: f = x + y^2*z; f.lm()\n",
      " |          y^2*z\n",
      " |      \n",
      " |      This method is called by the lm/lc/lt methods of\n",
      " |      ``MPolynomial_polydict``.\n",
      " |  \n",
      " |  greater_tuple_invlex(self, f, g)\n",
      " |      Return the greater exponent tuple with respect to the inversed\n",
      " |      lexicographical term order.\n",
      " |      \n",
      " |      INPUT:\n",
      " |      \n",
      " |      - ``f`` - exponent tuple\n",
      " |      \n",
      " |      - ``g`` - exponent tuple\n",
      " |      \n",
      " |      EXAMPLES::\n",
      " |      \n",
      " |          sage: P.<x,y,z> = PolynomialRing(QQbar, 3, order='invlex')\n",
      " |          sage: f = x + y; f.lm() # indirect doctest\n",
      " |          y\n",
      " |          sage: f = y + x^2; f.lm()\n",
      " |          y\n",
      " |      \n",
      " |      This method is called by the lm/lc/lt methods of\n",
      " |      ``MPolynomial_polydict``.\n",
      " |  \n",
      " |  greater_tuple_lex(self, f, g)\n",
      " |      Return the greater exponent tuple with respect to the\n",
      " |      lexicographical term order.\n",
      " |      \n",
      " |      INPUT:\n",
      " |      \n",
      " |      - ``f`` - exponent tuple\n",
      " |      \n",
      " |      - ``g`` - exponent tuple\n",
      " |      \n",
      " |      EXAMPLES::\n",
      " |      \n",
      " |          sage: P.<x,y,z> = PolynomialRing(QQbar, 3, order='lex')\n",
      " |          sage: f = x + y^2; f.lm() # indirect doctest\n",
      " |          x\n",
      " |      \n",
      " |      This method is called by the lm/lc/lt methods of\n",
      " |      ``MPolynomial_polydict``.\n",
      " |  \n",
      " |  greater_tuple_matrix(self, f, g)\n",
      " |      Return the greater exponent tuple with respect to the matrix\n",
      " |      term order.\n",
      " |      \n",
      " |      INPUT:\n",
      " |      \n",
      " |      - ``f`` - exponent tuple\n",
      " |      \n",
      " |      - ``g`` - exponent tuple\n",
      " |      \n",
      " |      EXAMPLES::\n",
      " |      \n",
      " |          sage: P.<x,y> = PolynomialRing(QQbar, 2, order='m(1,3,1,0)')\n",
      " |          sage: y > x^2 # indirect doctest\n",
      " |          True\n",
      " |          sage: y > x^3\n",
      " |          False\n",
      " |  \n",
      " |  greater_tuple_negdeglex(self, f, g)\n",
      " |      Return the greater exponent tuple with respect to the negative\n",
      " |      degree lexicographical term order.\n",
      " |      \n",
      " |      INPUT:\n",
      " |      \n",
      " |      - ``f`` - exponent tuple\n",
      " |      \n",
      " |      - ``g`` - exponent tuple\n",
      " |      \n",
      " |      EXAMPLES::\n",
      " |      \n",
      " |          sage: P.<x,y,z> = PolynomialRing(QQbar, 3, order='negdeglex')\n",
      " |          sage: f = x + y; f.lm() # indirect doctest\n",
      " |          x\n",
      " |          sage: f = x + x^2; f.lm()\n",
      " |          x\n",
      " |          sage: f = x^2*y*z^2 + x*y^3*z; f.lm()\n",
      " |          x^2*y*z^2\n",
      " |      \n",
      " |      This method is called by the lm/lc/lt methods of\n",
      " |      ``MPolynomial_polydict``.\n",
      " |  \n",
      " |  greater_tuple_negdegrevlex(self, f, g)\n",
      " |      Return the greater exponent tuple with respect to the negative\n",
      " |      degree reverse lexicographical term order.\n",
      " |      \n",
      " |      INPUT:\n",
      " |      \n",
      " |      - ``f`` - exponent tuple\n",
      " |      \n",
      " |      - ``g`` - exponent tuple\n",
      " |      \n",
      " |      EXAMPLES::\n",
      " |      \n",
      " |          sage: P.<x,y,z> = PolynomialRing(QQbar, 3, order='negdegrevlex')\n",
      " |          sage: f = x + y; f.lm() # indirect doctest\n",
      " |          x\n",
      " |          sage: f = x + x^2; f.lm()\n",
      " |          x\n",
      " |          sage: f = x^2*y*z^2 + x*y^3*z; f.lm()\n",
      " |          x*y^3*z\n",
      " |      \n",
      " |      This method is called by the lm/lc/lt methods of\n",
      " |      ``MPolynomial_polydict``.\n",
      " |  \n",
      " |  greater_tuple_neglex(self, f, g)\n",
      " |      Return the greater exponent tuple with respect to the negative\n",
      " |      lexicographical term order.\n",
      " |      \n",
      " |      This method is called by the lm/lc/lt methods of\n",
      " |      ``MPolynomial_polydict``.\n",
      " |      \n",
      " |      INPUT:\n",
      " |      \n",
      " |      - ``f`` - exponent tuple\n",
      " |      \n",
      " |      - ``g`` - exponent tuple\n",
      " |      \n",
      " |      EXAMPLES::\n",
      " |      \n",
      " |          sage: P.<a,b,c,d,e,f>=PolynomialRing(QQbar, 6, order='degrevlex(3),degrevlex(3)')\n",
      " |          sage: f = a + c^4; f.lm() # indirect doctest\n",
      " |          c^4\n",
      " |          sage: g = a + e^4; g.lm()\n",
      " |          a\n",
      " |  \n",
      " |  greater_tuple_negwdeglex(self, f, g)\n",
      " |      Return the greater exponent tuple with respect to the negative\n",
      " |      weighted degree lexicographical term order.\n",
      " |      \n",
      " |      INPUT:\n",
      " |      \n",
      " |      - ``f`` - exponent tuple\n",
      " |      \n",
      " |      - ``g`` - exponent tuple\n",
      " |      \n",
      " |      EXAMPLES::\n",
      " |      \n",
      " |          sage: t = TermOrder('negwdeglex',(1,2,3))\n",
      " |          sage: P.<x,y,z> = PolynomialRing(QQbar, 3, order=t)\n",
      " |          sage: f = x + y; f.lm() # indirect doctest\n",
      " |          x\n",
      " |          sage: f = x + x^2; f.lm()\n",
      " |          x\n",
      " |          sage: f = x^3 + z; f.lm()\n",
      " |          x^3\n",
      " |      \n",
      " |      This method is called by the lm/lc/lt methods of\n",
      " |      ``MPolynomial_polydict``.\n",
      " |  \n",
      " |  greater_tuple_negwdegrevlex(self, f, g)\n",
      " |      Return the greater exponent tuple with respect to the negative\n",
      " |      weighted degree reverse lexicographical term order.\n",
      " |      \n",
      " |      INPUT:\n",
      " |      \n",
      " |      - ``f`` - exponent tuple\n",
      " |      \n",
      " |      - ``g`` - exponent tuple\n",
      " |      \n",
      " |      EXAMPLES::\n",
      " |      \n",
      " |          sage: t = TermOrder('negwdegrevlex',(1,2,3))\n",
      " |          sage: P.<x,y,z> = PolynomialRing(QQbar, 3, order=t)\n",
      " |          sage: f = x + y; f.lm() # indirect doctest\n",
      " |          x\n",
      " |          sage: f = x + x^2; f.lm()\n",
      " |          x\n",
      " |          sage: f = x^3 + z; f.lm()\n",
      " |          x^3\n",
      " |      \n",
      " |      This method is called by the lm/lc/lt methods of\n",
      " |      ``MPolynomial_polydict``.\n",
      " |  \n",
      " |  greater_tuple_wdeglex(self, f, g)\n",
      " |      Return the greater exponent tuple with respect to the weighted degree\n",
      " |      lexicographical term order.\n",
      " |      \n",
      " |      INPUT:\n",
      " |      \n",
      " |      - ``f`` - exponent tuple\n",
      " |      \n",
      " |      - ``g`` - exponent tuple\n",
      " |      \n",
      " |      EXAMPLES::\n",
      " |      \n",
      " |          sage: t = TermOrder('wdeglex',(1,2,3))\n",
      " |          sage: P.<x,y,z> = PolynomialRing(QQbar, 3, order=t)\n",
      " |          sage: f = x + y; f.lm() # indirect doctest\n",
      " |          y\n",
      " |          sage: f = x*y + z; f.lm()\n",
      " |          x*y\n",
      " |      \n",
      " |      This method is called by the lm/lc/lt methods of\n",
      " |      ``MPolynomial_polydict``.\n",
      " |  \n",
      " |  greater_tuple_wdegrevlex(self, f, g)\n",
      " |      Return the greater exponent tuple with respect to the weighted degree\n",
      " |      reverse lexicographical term order.\n",
      " |      \n",
      " |      INPUT:\n",
      " |      \n",
      " |      - ``f`` - exponent tuple\n",
      " |      \n",
      " |      - ``g`` - exponent tuple\n",
      " |      \n",
      " |      EXAMPLES::\n",
      " |      \n",
      " |          sage: t = TermOrder('wdegrevlex',(1,2,3))\n",
      " |          sage: P.<x,y,z> = PolynomialRing(QQbar, 3, order=t)\n",
      " |          sage: f = x + y; f.lm() # indirect doctest\n",
      " |          y\n",
      " |          sage: f = x + y^2*z; f.lm()\n",
      " |          y^2*z\n",
      " |      \n",
      " |      This method is called by the lm/lc/lt methods of\n",
      " |      ``MPolynomial_polydict``.\n",
      " |  \n",
      " |  is_block_order(self)\n",
      " |      Return true if self is a block term order.\n",
      " |      \n",
      " |      EXAMPLES::\n",
      " |      \n",
      " |          sage: t=TermOrder('deglex',2)+TermOrder('lex',2)\n",
      " |          sage: t.is_block_order()\n",
      " |          True\n",
      " |  \n",
      " |  is_global(self)\n",
      " |      Return true if this term order is definitely\n",
      " |      global. Return false otherwise, which includes\n",
      " |      unknown term orders.\n",
      " |      \n",
      " |      EXAMPLES::\n",
      " |      \n",
      " |          sage: T = TermOrder('lex')\n",
      " |          sage: T.is_global()\n",
      " |          True\n",
      " |          sage: T = TermOrder('degrevlex', 3) + TermOrder('degrevlex', 3)\n",
      " |          sage: T.is_global()\n",
      " |          True\n",
      " |          sage: T = TermOrder('degrevlex', 3) + TermOrder('negdegrevlex', 3)\n",
      " |          sage: T.is_global()\n",
      " |          False\n",
      " |          sage: T = TermOrder('degneglex', 3)\n",
      " |          sage: T.is_global()\n",
      " |          True\n",
      " |  \n",
      " |  is_local(self)\n",
      " |      Return true if this term order is definitely\n",
      " |      local. Return false otherwise, which includes\n",
      " |      unknown term orders.\n",
      " |      \n",
      " |      EXAMPLES::\n",
      " |      \n",
      " |          sage: T = TermOrder('lex')\n",
      " |          sage: T.is_local()\n",
      " |          False\n",
      " |          sage: T = TermOrder('negdeglex', 3) + TermOrder('negdegrevlex', 3)\n",
      " |          sage: T.is_local()\n",
      " |          True\n",
      " |          sage: T = TermOrder('degrevlex', 3) + TermOrder('negdegrevlex', 3)\n",
      " |          sage: T.is_local()\n",
      " |          False\n",
      " |  \n",
      " |  is_weighted_degree_order(self)\n",
      " |      Return true if self is a weighted degree term order.\n",
      " |      \n",
      " |      EXAMPLES::\n",
      " |      \n",
      " |          sage: t=TermOrder('wdeglex',(2,3))\n",
      " |          sage: t.is_weighted_degree_order()\n",
      " |          True\n",
      " |  \n",
      " |  macaulay2_str(self)\n",
      " |      Return a Macaulay2 representation of self.\n",
      " |      \n",
      " |      Used to convert polynomial rings to their Macaulay2\n",
      " |      representation.\n",
      " |      \n",
      " |      EXAMPLES::\n",
      " |      \n",
      " |          sage: P = PolynomialRing(GF(127), 8,names='x',order='degrevlex(3),lex(5)')\n",
      " |          sage: T = P.term_order()\n",
      " |          sage: T.macaulay2_str()\n",
      " |          '{GRevLex => 3,Lex => 5}'\n",
      " |          sage: P._macaulay2_() # optional - macaulay2\n",
      " |           ZZ\n",
      " |          ---[x0, x1, x2, x3, x4, x5, x6, x7, Degrees => {8:1}, Heft => {1}, MonomialOrder => {MonomialSize => 16}, DegreeRank => 1]\n",
      " |          127                                                                                 {GRevLex => {3:1}  }\n",
      " |                                                                                              {Lex => 5          }\n",
      " |                                                                                              {Position => Up    }\n",
      " |  \n",
      " |  magma_str(self)\n",
      " |      Return a MAGMA representation of self.\n",
      " |      \n",
      " |      Used to convert polynomial rings to their MAGMA representation.\n",
      " |      \n",
      " |      EXAMPLES::\n",
      " |      \n",
      " |          sage: P = PolynomialRing(GF(127), 10,names='x',order='degrevlex')\n",
      " |          sage: magma(P)                                                        # optional - magma\n",
      " |          Polynomial ring of rank 10 over GF(127)\n",
      " |          Order: Graded Reverse Lexicographical\n",
      " |          Variables: x0, x1, x2, x3, x4, x5, x6, x7, x8, x9\n",
      " |      \n",
      " |      ::\n",
      " |      \n",
      " |          sage: T = P.term_order()\n",
      " |          sage: T.magma_str()\n",
      " |          '\"grevlex\"'\n",
      " |  \n",
      " |  matrix(self)\n",
      " |      Return the matrix defining matrix term order.\n",
      " |      \n",
      " |      EXAMPLES::\n",
      " |      \n",
      " |          sage: t = TermOrder(\"M(1,2,0,1)\")\n",
      " |          sage: t.matrix()\n",
      " |          [1 2]\n",
      " |          [0 1]\n",
      " |  \n",
      " |  name(self)\n",
      " |      EXAMPLES::\n",
      " |      \n",
      " |          sage: TermOrder('lex').name()\n",
      " |          'lex'\n",
      " |  \n",
      " |  singular_moreblocks(self)\n",
      " |      Return a the number of additional blocks SINGULAR needs to allocate\n",
      " |      for handling non-native orderings like `degneglex`.\n",
      " |      \n",
      " |      EXAMPLES::\n",
      " |      \n",
      " |          sage: P = PolynomialRing(GF(127),10,names='x',order='lex(3),deglex(5),lex(2)')\n",
      " |          sage: T = P.term_order()\n",
      " |          sage: T.singular_moreblocks()\n",
      " |          0\n",
      " |          sage: P = PolynomialRing(GF(127),10,names='x',order='lex(3),degneglex(5),lex(2)')\n",
      " |          sage: T = P.term_order()\n",
      " |          sage: T.singular_moreblocks()\n",
      " |          1\n",
      " |          sage: P = PolynomialRing(GF(127),10,names='x',order='degneglex(5),degneglex(5)')\n",
      " |          sage: T = P.term_order()\n",
      " |          sage: T.singular_moreblocks()\n",
      " |          2\n",
      " |      \n",
      " |      TESTS:\n",
      " |      \n",
      " |      The 'degneglex' ordering is somehow special: SINGULAR handles it\n",
      " |      using an extra weight vector block.\n",
      " |      \n",
      " |          sage: T = TermOrder(\"degneglex\", 2)\n",
      " |          sage: P = PolynomialRing(QQ,2, names='x', order=T)\n",
      " |          sage: T = P.term_order()\n",
      " |          sage: T.singular_moreblocks()\n",
      " |          1\n",
      " |          sage: T = TermOrder(\"degneglex\", 2) + TermOrder(\"degneglex\", 2)\n",
      " |          sage: P = PolynomialRing(QQ,4, names='x', order=T)\n",
      " |          sage: T = P.term_order()\n",
      " |          sage: T.singular_moreblocks()\n",
      " |          2\n",
      " |  \n",
      " |  singular_str(self)\n",
      " |      Return a SINGULAR representation of self.\n",
      " |      \n",
      " |      Used to convert polynomial rings to their SINGULAR representation.\n",
      " |      \n",
      " |      EXAMPLES::\n",
      " |      \n",
      " |          sage: P = PolynomialRing(GF(127),10,names='x',order='lex(3),deglex(5),lex(2)')\n",
      " |          sage: T = P.term_order()\n",
      " |          sage: T.singular_str()\n",
      " |          '(lp(3),Dp(5),lp(2))'\n",
      " |          sage: P._singular_()\n",
      " |          polynomial ring, over a field, global ordering\n",
      " |          //   coefficients: ZZ/127\n",
      " |          //   number of vars : 10\n",
      " |          //        block   1 : ordering lp\n",
      " |          //                  : names    x0 x1 x2\n",
      " |          //        block   2 : ordering Dp\n",
      " |          //                  : names    x3 x4 x5 x6 x7\n",
      " |          //        block   3 : ordering lp\n",
      " |          //                  : names    x8 x9\n",
      " |          //        block   4 : ordering C\n",
      " |      \n",
      " |      TESTS:\n",
      " |      \n",
      " |      The 'degneglex' ordering is somehow special, it looks like a block\n",
      " |      ordering in SINGULAR.\n",
      " |      \n",
      " |          sage: T = TermOrder(\"degneglex\", 2)\n",
      " |          sage: P = PolynomialRing(QQ,2, names='x', order=T)\n",
      " |          sage: T = P.term_order()\n",
      " |          sage: T.singular_str()\n",
      " |          '(a(1:2),ls(2))'\n",
      " |      \n",
      " |          sage: T = TermOrder(\"degneglex\", 2) + TermOrder(\"degneglex\", 2)\n",
      " |          sage: P = PolynomialRing(QQ,4, names='x', order=T)\n",
      " |          sage: T = P.term_order()\n",
      " |          sage: T.singular_str()\n",
      " |          '(a(1:2),ls(2),a(1:2),ls(2))'\n",
      " |          sage: P._singular_()\n",
      " |          polynomial ring, over a field, global ordering\n",
      " |          //   coefficients: QQ\n",
      " |          //   number of vars : 4\n",
      " |          //        block   1 : ordering a\n",
      " |          //                  : names    x0 x1\n",
      " |          //                  : weights   1  1\n",
      " |          //        block   2 : ordering ls\n",
      " |          //                  : names    x0 x1\n",
      " |          //        block   3 : ordering a\n",
      " |          //                  : names    x2 x3\n",
      " |          //                  : weights   1  1\n",
      " |          //        block   4 : ordering ls\n",
      " |          //                  : names    x2 x3\n",
      " |          //        block   5 : ordering C\n",
      " |  \n",
      " |  sortkey_block(self, f)\n",
      " |      Return the sortkey of an exponent tuple with respect to the\n",
      " |      block order as specified when constructing this element.\n",
      " |      \n",
      " |      INPUT:\n",
      " |      \n",
      " |      - ``f`` -- exponent tuple\n",
      " |      \n",
      " |      EXAMPLES::\n",
      " |      \n",
      " |          sage: P.<a,b,c,d,e,f>=PolynomialRing(QQbar, 6, order='degrevlex(3),degrevlex(3)')\n",
      " |          sage: a > c^4 # indirect doctest\n",
      " |          False\n",
      " |          sage: a > e^4\n",
      " |          True\n",
      " |  \n",
      " |  sortkey_deglex(self, f)\n",
      " |      Return the sortkey of an exponent tuple with respect to the degree\n",
      " |      lexicographical term order.\n",
      " |      \n",
      " |      INPUT:\n",
      " |      \n",
      " |      - ``f`` -- exponent tuple\n",
      " |      \n",
      " |      EXAMPLES::\n",
      " |      \n",
      " |          sage: P.<x,y> = PolynomialRing(QQbar, 2, order='deglex')\n",
      " |          sage: x > y^2 # indirect doctest\n",
      " |          False\n",
      " |          sage: x > 1\n",
      " |          True\n",
      " |  \n",
      " |  sortkey_degneglex(self, f)\n",
      " |      Return the sortkey of an exponent tuple with respect to the\n",
      " |      degree negative lexicographical term order.\n",
      " |      \n",
      " |      INPUT:\n",
      " |      \n",
      " |      - ``f`` -- exponent tuple\n",
      " |      \n",
      " |      EXAMPLES::\n",
      " |      \n",
      " |          sage: P.<x,y,z> = PolynomialRing(QQbar, 3, order='degneglex')\n",
      " |          sage: x*y > y*z # indirect doctest\n",
      " |          False\n",
      " |          sage: x*y > x\n",
      " |          True\n",
      " |  \n",
      " |  sortkey_degrevlex(self, f)\n",
      " |      Return the sortkey of an exponent tuple with respect to the\n",
      " |      degree reversed lexicographical term order.\n",
      " |      \n",
      " |      INPUT:\n",
      " |      \n",
      " |      - ``f`` -- exponent tuple\n",
      " |      \n",
      " |      EXAMPLES::\n",
      " |      \n",
      " |          sage: P.<x,y> = PolynomialRing(QQbar, 2, order='degrevlex')\n",
      " |          sage: x > y^2 # indirect doctest\n",
      " |          False\n",
      " |          sage: x > 1\n",
      " |          True\n",
      " |  \n",
      " |  sortkey_invlex(self, f)\n",
      " |      Return the sortkey of an exponent tuple with respect to the inversed\n",
      " |      lexicographical term order.\n",
      " |      \n",
      " |      INPUT:\n",
      " |      \n",
      " |      - ``f`` -- exponent tuple\n",
      " |      \n",
      " |      EXAMPLES::\n",
      " |      \n",
      " |          sage: P.<x,y> = PolynomialRing(QQbar, 2, order='invlex')\n",
      " |          sage: x > y^2 # indirect doctest\n",
      " |          False\n",
      " |          sage: x > 1\n",
      " |          True\n",
      " |  \n",
      " |  sortkey_lex(self, f)\n",
      " |      Return the sortkey of an exponent tuple with respect to the\n",
      " |      lexicographical term order.\n",
      " |      \n",
      " |      INPUT:\n",
      " |      \n",
      " |      - ``f`` -- exponent tuple\n",
      " |      \n",
      " |      EXAMPLES::\n",
      " |      \n",
      " |          sage: P.<x,y> = PolynomialRing(QQbar, 2, order='lex')\n",
      " |          sage: x > y^2 # indirect doctest\n",
      " |          True\n",
      " |          sage: x > 1\n",
      " |          True\n",
      " |  \n",
      " |  sortkey_matrix(self, f)\n",
      " |      Return the sortkey of an exponent tuple with respect to the matrix\n",
      " |      term order.\n",
      " |      \n",
      " |      INPUT:\n",
      " |      \n",
      " |      - ``f`` - exponent tuple\n",
      " |      \n",
      " |      EXAMPLES::\n",
      " |      \n",
      " |          sage: P.<x,y> = PolynomialRing(QQbar, 2, order='m(1,3,1,0)')\n",
      " |          sage: y > x^2 # indirect doctest\n",
      " |          True\n",
      " |          sage: y > x^3\n",
      " |          False\n",
      " |  \n",
      " |  sortkey_negdeglex(self, f)\n",
      " |      Return the sortkey of an exponent tuple with respect to the\n",
      " |      negative degree lexicographical term order.\n",
      " |      \n",
      " |      INPUT:\n",
      " |      \n",
      " |      - ``f`` -- exponent tuple\n",
      " |      \n",
      " |      EXAMPLES::\n",
      " |      \n",
      " |          sage: P.<x,y> = PolynomialRing(QQbar, 2, order='negdeglex')\n",
      " |          sage: x > y^2 # indirect doctest\n",
      " |          True\n",
      " |          sage: x > 1\n",
      " |          False\n",
      " |  \n",
      " |  sortkey_negdegrevlex(self, f)\n",
      " |      Return the sortkey of an exponent tuple with respect to the\n",
      " |      negative degree reverse lexicographical term order.\n",
      " |      \n",
      " |      INPUT:\n",
      " |      \n",
      " |      - ``f`` -- exponent tuple\n",
      " |      \n",
      " |      EXAMPLES::\n",
      " |      \n",
      " |          sage: P.<x,y> = PolynomialRing(QQbar, 2, order='negdegrevlex')\n",
      " |          sage: x > y^2 # indirect doctest\n",
      " |          True\n",
      " |          sage: x > 1\n",
      " |          False\n",
      " |  \n",
      " |  sortkey_neglex(self, f)\n",
      " |      Return the sortkey of an exponent tuple with respect to the negative\n",
      " |      lexicographical term order.\n",
      " |      \n",
      " |      INPUT:\n",
      " |      \n",
      " |      - ``f`` -- exponent tuple\n",
      " |      \n",
      " |      EXAMPLES::\n",
      " |      \n",
      " |          sage: P.<x,y> = PolynomialRing(QQbar, 2, order='neglex')\n",
      " |          sage: x > y^2 # indirect doctest\n",
      " |          False\n",
      " |          sage: x > 1\n",
      " |          False\n",
      " |  \n",
      " |  sortkey_negwdeglex(self, f)\n",
      " |      Return the sortkey of an exponent tuple with respect to the\n",
      " |      negative weighted degree lexicographical term order.\n",
      " |      \n",
      " |      INPUT:\n",
      " |      \n",
      " |      - ``f`` -- exponent tuple\n",
      " |      \n",
      " |      EXAMPLES::\n",
      " |      \n",
      " |          sage: t = TermOrder('negwdeglex',(3,2))\n",
      " |          sage: P.<x,y> = PolynomialRing(QQbar, 2, order=t)\n",
      " |          sage: x > y^2 # indirect doctest\n",
      " |          True\n",
      " |          sage: x^2 > y^3\n",
      " |          True\n",
      " |  \n",
      " |  sortkey_negwdegrevlex(self, f)\n",
      " |      Return the sortkey of an exponent tuple with respect to the\n",
      " |      negative weighted degree reverse lexicographical term order.\n",
      " |      \n",
      " |      INPUT:\n",
      " |      \n",
      " |      - ``f`` -- exponent tuple\n",
      " |      \n",
      " |      EXAMPLES::\n",
      " |      \n",
      " |          sage: t = TermOrder('negwdegrevlex',(3,2))\n",
      " |          sage: P.<x,y> = PolynomialRing(QQbar, 2, order=t)\n",
      " |          sage: x > y^2 # indirect doctest\n",
      " |          True\n",
      " |          sage: x^2 > y^3\n",
      " |          True\n",
      " |  \n",
      " |  sortkey_wdeglex(self, f)\n",
      " |      Return the sortkey of an exponent tuple with respect to the\n",
      " |      weighted degree lexicographical term order.\n",
      " |      \n",
      " |      INPUT:\n",
      " |      \n",
      " |      - ``f`` -- exponent tuple\n",
      " |      \n",
      " |      EXAMPLES::\n",
      " |      \n",
      " |          sage: t = TermOrder('wdeglex',(3,2))\n",
      " |          sage: P.<x,y> = PolynomialRing(QQbar, 2, order=t)\n",
      " |          sage: x > y^2 # indirect doctest\n",
      " |          False\n",
      " |          sage: x > y\n",
      " |          True\n",
      " |  \n",
      " |  sortkey_wdegrevlex(self, f)\n",
      " |      Return the sortkey of an exponent tuple with respect to the\n",
      " |      weighted degree reverse lexicographical term order.\n",
      " |      \n",
      " |      INPUT:\n",
      " |      \n",
      " |      - ``f`` -- exponent tuple\n",
      " |      \n",
      " |      EXAMPLES::\n",
      " |      \n",
      " |          sage: t = TermOrder('wdegrevlex',(3,2))\n",
      " |          sage: P.<x,y> = PolynomialRing(QQbar, 2, order=t)\n",
      " |          sage: x > y^2 # indirect doctest\n",
      " |          False\n",
      " |          sage: x^2 > y^3\n",
      " |          True\n",
      " |  \n",
      " |  tuple_weight(self, f)\n",
      " |      Return the weight of tuple f.\n",
      " |      \n",
      " |      INPUT:\n",
      " |      \n",
      " |      - ``f`` - exponent tuple\n",
      " |      \n",
      " |      EXAMPLES::\n",
      " |      \n",
      " |          sage: t=TermOrder('wdeglex',(1,2,3))\n",
      " |          sage: P.<a,b,c>=PolynomialRing(QQbar, order=t)\n",
      " |          sage: P.term_order().tuple_weight([3,2,1])\n",
      " |          10\n",
      " |  \n",
      " |  weights(self)\n",
      " |      Return the weights for weighted term orders.\n",
      " |      \n",
      " |      EXAMPLES::\n",
      " |      \n",
      " |          sage: t=TermOrder('wdeglex',(2,3))\n",
      " |          sage: t.weights()\n",
      " |          (2, 3)\n",
      " |  \n",
      " |  ----------------------------------------------------------------------\n",
      " |  Data descriptors defined here:\n",
      " |  \n",
      " |  __dict__\n",
      " |      dictionary for instance variables (if defined)\n",
      " |  \n",
      " |  __weakref__\n",
      " |      list of weak references to the object (if defined)\n",
      " |  \n",
      " |  ----------------------------------------------------------------------\n",
      " |  Methods inherited from sage.structure.sage_object.SageObject:\n",
      " |  \n",
      " |  __new__(*args, **kwargs) from builtins.type\n",
      " |      Create and return a new object.  See help(type) for accurate signature.\n",
      " |  \n",
      " |  __pari__(...)\n",
      " |      SageObject.__pari__(self)\n",
      " |      File: sage/structure/sage_object.pyx (starting at line 977)\n",
      " |  \n",
      " |  __repr__(...)\n",
      " |      File: sage/structure/sage_object.pyx (starting at line 198)\n",
      " |      \n",
      " |      Default method for string representation.\n",
      " |      \n",
      " |      .. NOTE::\n",
      " |      \n",
      " |          Do not overwrite this method. Instead, implement\n",
      " |          a ``_repr_`` (single underscore) method.\n",
      " |      \n",
      " |      EXAMPLES:\n",
      " |      \n",
      " |      By default, the string representation coincides with\n",
      " |      the output of the single underscore ``_repr_``::\n",
      " |      \n",
      " |          sage: P.<x> = QQ[]\n",
      " |          sage: repr(P) == P._repr_()  #indirect doctest\n",
      " |          True\n",
      " |      \n",
      " |      Using :meth:`rename`, the string representation can\n",
      " |      be customized::\n",
      " |      \n",
      " |          sage: P.rename('A polynomial ring')\n",
      " |          sage: repr(P) == P._repr_()\n",
      " |          False\n",
      " |      \n",
      " |      The original behaviour is restored with :meth:`reset_name`.::\n",
      " |      \n",
      " |          sage: P.reset_name()\n",
      " |          sage: repr(P) == P._repr_()\n",
      " |          True\n",
      " |      \n",
      " |      If there is no ``_repr_`` method defined, we fall back to the\n",
      " |      super class (typically ``object``)::\n",
      " |      \n",
      " |          sage: from sage.structure.sage_object import SageObject\n",
      " |          sage: S = SageObject()\n",
      " |          sage: S\n",
      " |          <sage.structure.sage_object.SageObject object at ...>\n",
      " |  \n",
      " |  category(...)\n",
      " |      SageObject.category(self)\n",
      " |      File: sage/structure/sage_object.pyx (starting at line 526)\n",
      " |  \n",
      " |  dump(...)\n",
      " |      SageObject.dump(self, filename, compress=True)\n",
      " |      File: sage/structure/sage_object.pyx (starting at line 487)\n",
      " |      \n",
      " |              Same as self.save(filename, compress)\n",
      " |  \n",
      " |  dumps(...)\n",
      " |      SageObject.dumps(self, compress=True)\n",
      " |      File: sage/structure/sage_object.pyx (starting at line 493)\n",
      " |      \n",
      " |              Dump ``self`` to a string ``s``, which can later be reconstituted\n",
      " |              as ``self`` using ``loads(s)``.\n",
      " |      \n",
      " |              There is an optional boolean argument ``compress`` which defaults to ``True``.\n",
      " |      \n",
      " |              EXAMPLES::\n",
      " |      \n",
      " |                  sage: from sage.misc.persist import comp\n",
      " |                  sage: O = SageObject()\n",
      " |                  sage: p_comp = O.dumps()\n",
      " |                  sage: p_uncomp = O.dumps(compress=False)\n",
      " |                  sage: comp.decompress(p_comp) == p_uncomp\n",
      " |                  True\n",
      " |                  sage: import pickletools\n",
      " |                  sage: pickletools.dis(p_uncomp)\n",
      " |                      0: \\x80 PROTO      2\n",
      " |                      2: c    GLOBAL     'sage.structure.sage_object SageObject'\n",
      " |                     41: q    BINPUT     ...\n",
      " |                     43: )    EMPTY_TUPLE\n",
      " |                     44: \\x81 NEWOBJ\n",
      " |                     45: q    BINPUT     ...\n",
      " |                     47: .    STOP\n",
      " |                  highest protocol among opcodes = 2\n",
      " |  \n",
      " |  parent(...)\n",
      " |      SageObject.parent(self)\n",
      " |      File: sage/structure/sage_object.pyx (starting at line 560)\n",
      " |      \n",
      " |              Return the type of ``self`` to support the coercion framework.\n",
      " |      \n",
      " |              EXAMPLES::\n",
      " |      \n",
      " |                  sage: t = log(sqrt(2) - 1) + log(sqrt(2) + 1); t\n",
      " |                  log(sqrt(2) + 1) + log(sqrt(2) - 1)\n",
      " |                  sage: u = t.maxima_methods()\n",
      " |                  sage: u.parent()\n",
      " |                  <class 'sage.symbolic.maxima_wrapper.MaximaWrapper'>\n",
      " |  \n",
      " |  rename(...)\n",
      " |      SageObject.rename(self, x=None)\n",
      " |      File: sage/structure/sage_object.pyx (starting at line 121)\n",
      " |      \n",
      " |              Change self so it prints as x, where x is a string.\n",
      " |      \n",
      " |              .. NOTE::\n",
      " |      \n",
      " |                 This is *only* supported for Python classes that derive\n",
      " |                 from SageObject.\n",
      " |      \n",
      " |              EXAMPLES::\n",
      " |      \n",
      " |                  sage: x = PolynomialRing(QQ, 'x', sparse=True).gen()\n",
      " |                  sage: g = x^3 + x - 5\n",
      " |                  sage: g\n",
      " |                  x^3 + x - 5\n",
      " |                  sage: g.rename('a polynomial')\n",
      " |                  sage: g\n",
      " |                  a polynomial\n",
      " |                  sage: g + x\n",
      " |                  x^3 + 2*x - 5\n",
      " |                  sage: h = g^100\n",
      " |                  sage: str(h)[:20]\n",
      " |                  'x^300 + 100*x^298 - '\n",
      " |                  sage: h.rename('x^300 + ...')\n",
      " |                  sage: h\n",
      " |                  x^300 + ...\n",
      " |      \n",
      " |              Real numbers are not Python classes, so rename is not supported::\n",
      " |      \n",
      " |                  sage: a = 3.14\n",
      " |                  sage: type(a)\n",
      " |                  <... 'sage.rings.real_mpfr.RealLiteral'>\n",
      " |                  sage: a.rename('pi')\n",
      " |                  Traceback (most recent call last):\n",
      " |                  ...\n",
      " |                  NotImplementedError: object does not support renaming: 3.14000000000000\n",
      " |      \n",
      " |              .. NOTE::\n",
      " |      \n",
      " |                 The reason C-extension types are not supported by default\n",
      " |                 is if they were then every single one would have to carry\n",
      " |                 around an extra attribute, which would be slower and waste\n",
      " |                 a lot of memory.\n",
      " |      \n",
      " |                 To support them for a specific class, add a\n",
      " |                 ``cdef public __custom_name`` attribute.\n",
      " |  \n",
      " |  reset_name(...)\n",
      " |      SageObject.reset_name(self)\n",
      " |      File: sage/structure/sage_object.pyx (starting at line 178)\n",
      " |      \n",
      " |              Remove the custom name of an object.\n",
      " |      \n",
      " |              EXAMPLES::\n",
      " |      \n",
      " |                  sage: P.<x> = QQ[]\n",
      " |                  sage: P\n",
      " |                  Univariate Polynomial Ring in x over Rational Field\n",
      " |                  sage: P.rename('A polynomial ring')\n",
      " |                  sage: P\n",
      " |                  A polynomial ring\n",
      " |                  sage: P.reset_name()\n",
      " |                  sage: P\n",
      " |                  Univariate Polynomial Ring in x over Rational Field\n",
      " |  \n",
      " |  save(...)\n",
      " |      SageObject.save(self, filename=None, compress=True)\n",
      " |      File: sage/structure/sage_object.pyx (starting at line 462)\n",
      " |      \n",
      " |              Save self to the given filename.\n",
      " |      \n",
      " |              EXAMPLES::\n",
      " |      \n",
      " |                  sage: f = x^3 + 5\n",
      " |                  sage: f.save(os.path.join(SAGE_TMP, 'file'))\n",
      " |                  sage: load(os.path.join(SAGE_TMP, 'file.sobj'))\n",
      " |                  x^3 + 5\n",
      "\n"
     ]
    }
   ],
   "source": [
    "help(TermOrder)"
   ]
  },
  {
   "cell_type": "markdown",
   "metadata": {},
   "source": [
    "Par exemple, des ordres à poids"
   ]
  },
  {
   "cell_type": "code",
   "execution_count": 8,
   "metadata": {},
   "outputs": [
    {
     "data": {
      "text/plain": [
       "[x - y^2, y^3 - y^2]"
      ]
     },
     "execution_count": 8,
     "metadata": {},
     "output_type": "execute_result"
    }
   ],
   "source": [
    "I.change_ring(A.change_ring(order=TermOrder('wdegrevlex', [10,1]))).groebner_basis()"
   ]
  },
  {
   "cell_type": "code",
   "execution_count": 9,
   "metadata": {},
   "outputs": [
    {
     "data": {
      "text/plain": [
       "[y^2 - x, x*y - x, x^2 - x]"
      ]
     },
     "execution_count": 9,
     "metadata": {},
     "output_type": "execute_result"
    }
   ],
   "source": [
    "I.change_ring(A.change_ring(order=TermOrder('wdegrevlex', [1,10]))).groebner_basis()"
   ]
  },
  {
   "cell_type": "markdown",
   "metadata": {},
   "source": [
    "La BdG universelle de $I$ est l'union de toutes les BdG de $I$ pour tout ordre admissible.\n",
    "\n",
    "Nous ne pouvons pas tester l'infinité des ordres admissibles, mais, au vu des calculs précédents, nous pouvons conjecturer que $$G = \\{x - y^2, y^3 - y^2, xy - x, x^2 - x\\}$$ est une BdG universelle pour $I = 〈x-y^2,xy-x〉$.\n",
    "\n",
    "Pour le prouver, on observe que $LM(G)$ ne dépend que de l'ordre relatif de $x$ et $y^2$, en effet, à l'exclusion de $x-y^2$, tous les polynômes de $G$ ont un unique monome divisible par tous les autres, qui se trouve donc être le monome de tête dans tout ordre admissible. On a donc:\n",
    "\n",
    "$$〈LM(G)〉 = \\begin{cases}\n",
    "〈x, y^3〉 &\\text{si $x > y^2$,}\\\\\n",
    "〈y^2, xy, x^2〉 &\\text{sinon.}\n",
    "\\end{cases}$$\n",
    "\n",
    "Puisque $G⊂I$, il est immédiat que $〈LM(G)〉 ⊂ 〈LM(I)〉$; il reste donc à montrer l'inclusion inverse.\n",
    "\n",
    "Commençons par le cas $x>y^2$ et supposons que $〈LM(I)〉\\not⊂〈LM(G)〉$, ceci implique qu'il existe un polynôme $ay^2+by+c∈I$, avec $a,b,c$ non tous nuls (remarque: les monomes $1,y,y^2$ sont les monômes de l'escalier de $〈LM(G)〉$). Mais la BdG pour l'ordre *lex* nous montre qu'il n'existe pas de tel polynôme.\n",
    "\n",
    "De façon similaire, si $y^2 > x$, on vérifie en regardant la BdG pour l'ordre invlex qu'il n'existe pas de polynôme $ay+bx+c$ avec $a,b,c$ non tous nuls.\n",
    "\n",
    "Nous pouvons donc conclure que $〈LM(I)〉=〈LM(G)〉$ pour tout ordre admissible."
   ]
  },
  {
   "cell_type": "markdown",
   "metadata": {},
   "source": [
    "## Exo 8.1"
   ]
  },
  {
   "cell_type": "code",
   "execution_count": 10,
   "metadata": {},
   "outputs": [],
   "source": [
    "A.<x,y> = PolynomialRing(QQ, order='lex')"
   ]
  },
  {
   "cell_type": "code",
   "execution_count": 11,
   "metadata": {},
   "outputs": [],
   "source": [
    "P1 = x^3*y - 2*x^2*y^2 + x\n",
    "P2 = 3*x^4 - y"
   ]
  },
  {
   "cell_type": "markdown",
   "metadata": {},
   "source": [
    "La syzygie est définie à un inversible près"
   ]
  },
  {
   "cell_type": "code",
   "execution_count": 12,
   "metadata": {},
   "outputs": [
    {
     "data": {
      "text/plain": [
       "-6*x^3*y^2 + 3*x^2 + y^2"
      ]
     },
     "execution_count": 12,
     "metadata": {},
     "output_type": "execute_result"
    }
   ],
   "source": [
    "S = 3*x*P1 - y*P2\n",
    "S"
   ]
  },
  {
   "cell_type": "markdown",
   "metadata": {},
   "source": [
    "Pour vérifier le crytère de Buchberger, nous devons diviser $S$ par notre base candidate.\n",
    "\n",
    "**Attention:** l'opérateur `%` ne respect pas l'ordre (bug?)"
   ]
  },
  {
   "cell_type": "code",
   "execution_count": 13,
   "metadata": {},
   "outputs": [
    {
     "data": {
      "text/plain": [
       "-3*x^4*y + y^2"
      ]
     },
     "execution_count": 13,
     "metadata": {},
     "output_type": "execute_result"
    }
   ],
   "source": [
    "S % P1"
   ]
  },
  {
   "cell_type": "markdown",
   "metadata": {},
   "source": [
    "L'opérateur `mod` marche correctement"
   ]
  },
  {
   "cell_type": "code",
   "execution_count": 14,
   "metadata": {},
   "outputs": [
    {
     "data": {
      "text/plain": [
       "-12*x^2*y^3 + 3*x^2 + 6*x*y + y^2"
      ]
     },
     "execution_count": 14,
     "metadata": {},
     "output_type": "execute_result"
    }
   ],
   "source": [
    "S2 = S.mod(P1)\n",
    "S2"
   ]
  },
  {
   "cell_type": "markdown",
   "metadata": {},
   "source": [
    "et on découvre que $S$ n'est pas réductible par $\\{P_1,P_2\\}$, ce qui montre que $\\{P_1,P_2\\}$ n'est pas une BdG"
   ]
  },
  {
   "cell_type": "code",
   "execution_count": 15,
   "metadata": {},
   "outputs": [
    {
     "data": {
      "text/plain": [
       "-12*x^2*y^3 + 3*x^2 + 6*x*y + y^2"
      ]
     },
     "execution_count": 15,
     "metadata": {},
     "output_type": "execute_result"
    }
   ],
   "source": [
    "S2.mod(P1)"
   ]
  },
  {
   "cell_type": "code",
   "execution_count": 16,
   "metadata": {},
   "outputs": [
    {
     "data": {
      "text/plain": [
       "-12*x^2*y^3 + 3*x^2 + 6*x*y + y^2"
      ]
     },
     "execution_count": 16,
     "metadata": {},
     "output_type": "execute_result"
    }
   ],
   "source": [
    "S2.mod(P2)"
   ]
  },
  {
   "cell_type": "markdown",
   "metadata": {},
   "source": [
    "Vérification"
   ]
  },
  {
   "cell_type": "code",
   "execution_count": 17,
   "metadata": {},
   "outputs": [],
   "source": [
    "I = A.ideal(P1, P2)"
   ]
  },
  {
   "cell_type": "code",
   "execution_count": 18,
   "metadata": {},
   "outputs": [
    {
     "data": {
      "text/plain": [
       "False"
      ]
     },
     "execution_count": 18,
     "metadata": {},
     "output_type": "execute_result"
    }
   ],
   "source": [
    "I.basis_is_groebner()"
   ]
  },
  {
   "cell_type": "code",
   "execution_count": 19,
   "metadata": {},
   "outputs": [
    {
     "data": {
      "text/plain": [
       "[x - 52/21*y^7 + 493/252*y^4 - 1/84*y, y^10 - 49/48*y^7 + 1/8*y^4 - 3/16*y]"
      ]
     },
     "execution_count": 19,
     "metadata": {},
     "output_type": "execute_result"
    }
   ],
   "source": [
    "I.groebner_basis()"
   ]
  },
  {
   "cell_type": "markdown",
   "metadata": {},
   "source": [
    "## Exo 10.1"
   ]
  },
  {
   "cell_type": "code",
   "execution_count": 20,
   "metadata": {},
   "outputs": [],
   "source": [
    "A.<x,y> = PolynomialRing(QQ, order='lex')"
   ]
  },
  {
   "cell_type": "code",
   "execution_count": 21,
   "metadata": {},
   "outputs": [],
   "source": [
    "I = A.ideal(y^4*x + 3*x^3 - y^4 - 3*x^2,\n",
    "            x^2*y - 2*x^2,\n",
    "            2*y^4*x - x^3 - 2*y^4 + x^2)"
   ]
  },
  {
   "cell_type": "code",
   "execution_count": 22,
   "metadata": {},
   "outputs": [
    {
     "data": {
      "text/plain": [
       "True"
      ]
     },
     "execution_count": 22,
     "metadata": {},
     "output_type": "execute_result"
    }
   ],
   "source": [
    "x > y"
   ]
  },
  {
   "cell_type": "code",
   "execution_count": 23,
   "metadata": {},
   "outputs": [
    {
     "data": {
      "text/plain": [
       "[x^2 - 1/16*y^4, x*y^4 - y^4, y^5 - 2*y^4]"
      ]
     },
     "execution_count": 23,
     "metadata": {},
     "output_type": "execute_result"
    }
   ],
   "source": [
    "G = I.groebner_basis()\n",
    "G"
   ]
  },
  {
   "cell_type": "markdown",
   "metadata": {},
   "source": [
    "On a le générateur de $I∩ℚ[y]$"
   ]
  },
  {
   "cell_type": "code",
   "execution_count": 24,
   "metadata": {},
   "outputs": [
    {
     "data": {
      "text/plain": [
       "y^5 - 2*y^4"
      ]
     },
     "execution_count": 24,
     "metadata": {},
     "output_type": "execute_result"
    }
   ],
   "source": [
    "G[-1]"
   ]
  },
  {
   "cell_type": "markdown",
   "metadata": {},
   "source": [
    "En changeant l'ordre de $x$ et $y$, on obtient le générateur de $I∩ℚ[x]$"
   ]
  },
  {
   "cell_type": "code",
   "execution_count": 25,
   "metadata": {},
   "outputs": [
    {
     "data": {
      "text/plain": [
       "[y^4 - 16*x^2, y*x^2 - 2*x^2, x^3 - x^2]"
      ]
     },
     "execution_count": 25,
     "metadata": {},
     "output_type": "execute_result"
    }
   ],
   "source": [
    "G = I.change_ring(A.change_ring(names='y,x')).groebner_basis()\n",
    "G"
   ]
  },
  {
   "cell_type": "code",
   "execution_count": 26,
   "metadata": {},
   "outputs": [
    {
     "data": {
      "text/plain": [
       "x^3 - x^2"
      ]
     },
     "execution_count": 26,
     "metadata": {},
     "output_type": "execute_result"
    }
   ],
   "source": [
    "G[-1]"
   ]
  },
  {
   "cell_type": "markdown",
   "metadata": {},
   "source": [
    "Un raccourci"
   ]
  },
  {
   "cell_type": "code",
   "execution_count": 27,
   "metadata": {},
   "outputs": [
    {
     "data": {
      "text/plain": [
       "Ideal (x^3 - x^2) of Multivariate Polynomial Ring in x, y over Rational Field"
      ]
     },
     "execution_count": 27,
     "metadata": {},
     "output_type": "execute_result"
    }
   ],
   "source": [
    "I.elimination_ideal(y)"
   ]
  },
  {
   "cell_type": "markdown",
   "metadata": {},
   "source": [
    "## Exo 12.2"
   ]
  },
  {
   "cell_type": "code",
   "execution_count": 28,
   "metadata": {},
   "outputs": [],
   "source": [
    "A.<x,y> = PolynomialRing(QQ, order='lex')"
   ]
  },
  {
   "cell_type": "code",
   "execution_count": 29,
   "metadata": {},
   "outputs": [],
   "source": [
    "I = A.ideal(x^2 + 2*y^2 - 3,\n",
    "            x^2 + x*y + y^2 - 3)"
   ]
  },
  {
   "cell_type": "code",
   "execution_count": 30,
   "metadata": {},
   "outputs": [
    {
     "data": {
      "text/plain": [
       "y^3 - y"
      ]
     },
     "execution_count": 30,
     "metadata": {},
     "output_type": "execute_result"
    }
   ],
   "source": [
    "f = I.groebner_basis()[-1]\n",
    "f"
   ]
  },
  {
   "cell_type": "code",
   "execution_count": 31,
   "metadata": {},
   "outputs": [
    {
     "data": {
      "text/plain": [
       "x^4 - 4*x^2 + 3"
      ]
     },
     "execution_count": 31,
     "metadata": {},
     "output_type": "execute_result"
    }
   ],
   "source": [
    "g = I.change_ring(A.change_ring(names='y,x')).groebner_basis()[-1]\n",
    "g"
   ]
  },
  {
   "cell_type": "markdown",
   "metadata": {},
   "source": [
    "La projection de $V(I)$ sur les deux axes est finie, on déduit que l'idéal est $0$-dimensionnel.\n",
    "On retrouve les composants de $V(I)$ en factorisant les deux idéaux d'élimination, on déduit que $V(I)$ contient au plus 6 points dans $ℚ$, et au plus 12 dans $ℚ[\\sqrt{3}]$."
   ]
  },
  {
   "cell_type": "code",
   "execution_count": 32,
   "metadata": {},
   "outputs": [
    {
     "data": {
      "text/plain": [
       "y * (y - 1) * (y + 1)"
      ]
     },
     "execution_count": 32,
     "metadata": {},
     "output_type": "execute_result"
    }
   ],
   "source": [
    "f.factor()"
   ]
  },
  {
   "cell_type": "code",
   "execution_count": 33,
   "metadata": {},
   "outputs": [
    {
     "data": {
      "text/plain": [
       "(x - 1) * (x + 1) * (x^2 - 3)"
      ]
     },
     "execution_count": 33,
     "metadata": {},
     "output_type": "execute_result"
    }
   ],
   "source": [
    "g.factor()"
   ]
  },
  {
   "cell_type": "markdown",
   "metadata": {},
   "source": [
    "On retrouve $V(I)$ en *remontant* les projections. Par exemple, en partant de $y=-1,0,1$, on retrouve les valeurs de $x$"
   ]
  },
  {
   "cell_type": "code",
   "execution_count": 34,
   "metadata": {},
   "outputs": [
    {
     "data": {
      "text/plain": [
       "[x^2 + 2*y^2 - 3, x*y - y^2, y^3 - y]"
      ]
     },
     "execution_count": 34,
     "metadata": {},
     "output_type": "execute_result"
    }
   ],
   "source": [
    "G = I.groebner_basis()\n",
    "G"
   ]
  },
  {
   "cell_type": "markdown",
   "metadata": {},
   "source": [
    "Le deuxième générateur nous donne les deux solutions $x=y=±1$"
   ]
  },
  {
   "cell_type": "code",
   "execution_count": 38,
   "metadata": {},
   "outputs": [
    {
     "data": {
      "text/plain": [
       "x - 1"
      ]
     },
     "execution_count": 38,
     "metadata": {},
     "output_type": "execute_result"
    }
   ],
   "source": [
    "G[1](y=1)"
   ]
  },
  {
   "cell_type": "code",
   "execution_count": 39,
   "metadata": {},
   "outputs": [
    {
     "data": {
      "text/plain": [
       "-x - 1"
      ]
     },
     "execution_count": 39,
     "metadata": {},
     "output_type": "execute_result"
    }
   ],
   "source": [
    "G[1](y=-1)"
   ]
  },
  {
   "cell_type": "markdown",
   "metadata": {},
   "source": [
    "Par contre, il ne nous donne pas d'informations sur $y=0$; pour ça, nous regardons la première équation, qui nous donne les solutions $(0,±\\sqrt{3})$"
   ]
  },
  {
   "cell_type": "code",
   "execution_count": 40,
   "metadata": {},
   "outputs": [
    {
     "data": {
      "text/plain": [
       "0"
      ]
     },
     "execution_count": 40,
     "metadata": {},
     "output_type": "execute_result"
    }
   ],
   "source": [
    "G[1](y=0)"
   ]
  },
  {
   "cell_type": "code",
   "execution_count": 41,
   "metadata": {},
   "outputs": [
    {
     "data": {
      "text/plain": [
       "x^2 - 3"
      ]
     },
     "execution_count": 41,
     "metadata": {},
     "output_type": "execute_result"
    }
   ],
   "source": [
    "G[0](y=0)"
   ]
  },
  {
   "cell_type": "markdown",
   "metadata": {},
   "source": [
    "## Exo 10.2"
   ]
  },
  {
   "cell_type": "code",
   "execution_count": 42,
   "metadata": {},
   "outputs": [],
   "source": [
    "A.<x,y,z,t> = PolynomialRing(QQ, order='lex')"
   ]
  },
  {
   "cell_type": "code",
   "execution_count": 43,
   "metadata": {},
   "outputs": [],
   "source": [
    "I = A.ideal(x + y - z,\n",
    "            x^2 - 2*t^2,\n",
    "            y^2 - 5*t^2)"
   ]
  },
  {
   "cell_type": "code",
   "execution_count": 44,
   "metadata": {},
   "outputs": [
    {
     "data": {
      "text/plain": [
       "[x + y - z, y^2 - 5*t^2, y*z - 1/2*z^2 - 3/2*t^2, y*t^2 + 1/6*z^3 - 17/6*z*t^2, z^4 - 14*z^2*t^2 + 9*t^4]"
      ]
     },
     "execution_count": 44,
     "metadata": {},
     "output_type": "execute_result"
    }
   ],
   "source": [
    "G = I.groebner_basis()\n",
    "G"
   ]
  },
  {
   "cell_type": "markdown",
   "metadata": {},
   "source": [
    "L'exercice a essayé de nous confondre les idées en nous donnant un idéal homogène. Déshomogéneisons."
   ]
  },
  {
   "cell_type": "code",
   "execution_count": 45,
   "metadata": {},
   "outputs": [
    {
     "data": {
      "text/plain": [
       "Ideal (x + y - z, x^2 - 2*t^2, y^2 - 5*t^2, t - 1) of Multivariate Polynomial Ring in x, y, z, t over Rational Field"
      ]
     },
     "execution_count": 45,
     "metadata": {},
     "output_type": "execute_result"
    }
   ],
   "source": [
    "J = I + A.ideal(t-1)\n",
    "J"
   ]
  },
  {
   "cell_type": "code",
   "execution_count": 46,
   "metadata": {},
   "outputs": [
    {
     "data": {
      "text/plain": [
       "[x - 1/6*z^3 + 11/6*z, y + 1/6*z^3 - 17/6*z, z^4 - 14*z^2 + 9, t - 1]"
      ]
     },
     "execution_count": 46,
     "metadata": {},
     "output_type": "execute_result"
    }
   ],
   "source": [
    "G = J.groebner_basis()\n",
    "G"
   ]
  },
  {
   "cell_type": "markdown",
   "metadata": {},
   "source": [
    "On voit qu'il s'agit d'un idéal $0$-dimensionnel, et nous obtenons un polynôme (irréductible) qui s'annule sur $z$.\n",
    "Puisque $x^2 = 2$, $y^2 = 5$ et $z=x+y$, nous en déduisons le polynôme minimal de $\\sqrt{2}+\\sqrt{5}$"
   ]
  },
  {
   "cell_type": "code",
   "execution_count": 47,
   "metadata": {},
   "outputs": [
    {
     "data": {
      "text/plain": [
       "z^4 - 14*z^2 + 9"
      ]
     },
     "execution_count": 47,
     "metadata": {},
     "output_type": "execute_result"
    }
   ],
   "source": [
    "f = G[-2]\n",
    "f"
   ]
  },
  {
   "cell_type": "code",
   "execution_count": 48,
   "metadata": {},
   "outputs": [
    {
     "data": {
      "text/plain": [
       "True"
      ]
     },
     "execution_count": 48,
     "metadata": {},
     "output_type": "execute_result"
    }
   ],
   "source": [
    "f.univariate_polynomial().is_irreducible()"
   ]
  },
  {
   "cell_type": "markdown",
   "metadata": {},
   "source": [
    "Ce résultant nous donne le même résultat. On peut généraliser à une formule donnant le polynôme minimal de tout nombre algébrique obtenu comme la somme de deux autres nombres algébriques."
   ]
  },
  {
   "cell_type": "code",
   "execution_count": 49,
   "metadata": {},
   "outputs": [],
   "source": [
    "f = (y - z)^2 - 2\n",
    "g = y^2 - 5"
   ]
  },
  {
   "cell_type": "code",
   "execution_count": 50,
   "metadata": {},
   "outputs": [
    {
     "data": {
      "text/plain": [
       "z^4 - 14*z^2 + 9"
      ]
     },
     "execution_count": 50,
     "metadata": {},
     "output_type": "execute_result"
    }
   ],
   "source": [
    "f.resultant(g, y)"
   ]
  },
  {
   "cell_type": "markdown",
   "metadata": {},
   "source": [
    "Pour exprimer $x=±\\sqrt{2}$ et $y=±\\sqrt{5}$ en fonction de $z$, il suffit de regarder les autres polynômes de la base de Gröbner."
   ]
  },
  {
   "cell_type": "code",
   "execution_count": 51,
   "metadata": {},
   "outputs": [
    {
     "data": {
      "text/plain": [
       "x - 1/6*z^3 + 11/6*z"
      ]
     },
     "execution_count": 51,
     "metadata": {},
     "output_type": "execute_result"
    }
   ],
   "source": [
    "f = G[0]\n",
    "f"
   ]
  },
  {
   "cell_type": "code",
   "execution_count": 52,
   "metadata": {},
   "outputs": [
    {
     "data": {
      "text/plain": [
       "x - sqrt(2)"
      ]
     },
     "execution_count": 52,
     "metadata": {},
     "output_type": "execute_result"
    }
   ],
   "source": [
    "f(z=sqrt(2) + sqrt(5)).expand()"
   ]
  },
  {
   "cell_type": "code",
   "execution_count": 53,
   "metadata": {},
   "outputs": [
    {
     "data": {
      "text/plain": [
       "y + 1/6*z^3 - 17/6*z"
      ]
     },
     "execution_count": 53,
     "metadata": {},
     "output_type": "execute_result"
    }
   ],
   "source": [
    "G[1]"
   ]
  },
  {
   "cell_type": "code",
   "execution_count": null,
   "metadata": {},
   "outputs": [],
   "source": []
  }
 ],
 "metadata": {
  "kernelspec": {
   "display_name": "SageMath 8.3",
   "language": "",
   "name": "sagemath"
  },
  "language_info": {
   "codemirror_mode": {
    "name": "ipython",
    "version": 3
   },
   "file_extension": ".py",
   "mimetype": "text/x-python",
   "name": "python",
   "nbconvert_exporter": "python",
   "pygments_lexer": "ipython3",
   "version": "3.6.3"
  }
 },
 "nbformat": 4,
 "nbformat_minor": 2
}
